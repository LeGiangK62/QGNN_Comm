{
  "cells": [
    {
      "cell_type": "code",
      "execution_count": 3,
      "id": "dUWvIwZzosEW",
      "metadata": {
        "colab": {
          "base_uri": "https://localhost:8080/",
          "height": 73
        },
        "id": "dUWvIwZzosEW",
        "outputId": "4cd38175-3025-4a4b-fe6a-d496db648963"
      },
      "outputs": [
        {
          "name": "stdout",
          "output_type": "stream",
          "text": [
            "c:\\Users\\wine\\Giang\\Code\\Python\\QGNN_Comm\\data\n"
          ]
        },
        {
          "name": "stderr",
          "output_type": "stream",
          "text": [
            "c:\\Users\\wine\\anaconda3\\envs\\QGNN\\lib\\site-packages\\IPython\\core\\magics\\osm.py:417: UserWarning: using dhist requires you to install the `pickleshare` library.\n",
            "  self.shell.db['dhist'] = compress_dhist(dhist)[-100:]\n"
          ]
        }
      ],
      "source": [
        "%cd ../../data"
      ]
    },
    {
      "cell_type": "code",
      "execution_count": 4,
      "id": "d6bd1331-2391-4a69-b671-97ddba099d68",
      "metadata": {
        "id": "d6bd1331-2391-4a69-b671-97ddba099d68"
      },
      "outputs": [],
      "source": [
        "import numpy as np\n",
        "import torch\n",
        "from torch_geometric.loader import  DataLoader\n",
        "from torch_geometric.data import HeteroData, Data, Dataset, Batch\n",
        "import torch.nn.functional as F\n",
        "from torch_geometric.nn import MessagePassing\n",
        "import torch.nn as nn\n",
        "from torch.nn import Sequential as Seq, Linear as Lin, ReLU, ELU, Sigmoid, BatchNorm1d as BN, ReLU6 as ReLU6, PReLU, SiLU\n",
        "import scipy.io\n",
        "from torch_geometric.nn import HeteroConv, SAGEConv\n",
        "import torch_geometric.nn as pyg_nn\n",
        "import torch_geometric.utils as pyg_utils"
      ]
    },
    {
      "cell_type": "markdown",
      "id": "da9f9504-1e9e-41e3-a1e0-2d3909a8c027",
      "metadata": {
        "id": "da9f9504-1e9e-41e3-a1e0-2d3909a8c027"
      },
      "source": [
        "## Create Dataset"
      ]
    },
    {
      "cell_type": "code",
      "execution_count": 5,
      "id": "-wRWgvCvcNya",
      "metadata": {
        "id": "-wRWgvCvcNya"
      },
      "outputs": [],
      "source": [
        "def normalize_data(train_data,test_data):\n",
        "    train_mean = np.mean(train_data)\n",
        "    train_std = np.std(train_data)\n",
        "    norm_train = (train_data)/train_std\n",
        "    norm_test = (test_data)/train_std\n",
        "    n1, n2 = norm_train.shape[0], norm_test.shape[0]\n",
        "    return norm_train, norm_test"
      ]
    },
    {
      "cell_type": "code",
      "execution_count": 6,
      "id": "539vhveBN-ro",
      "metadata": {
        "id": "539vhveBN-ro"
      },
      "outputs": [],
      "source": [
        "class PCDataset(Dataset):\n",
        "    ## norm_losses: normalized beta - large-scale variance\n",
        "    ## direct: direct term - for rate calculation only\n",
        "    ## cross: interference term - for rate calculation only\n",
        "    def __init__(self, norm_losses, direct, cross, KM):\n",
        "        self.norm_losses = norm_losses\n",
        "        self.direct = torch.tensor(direct, dtype=torch.float)\n",
        "        self.cross = torch.tensor(cross, dtype=torch.float)\n",
        "        self.KM = KM\n",
        "        self.get_cg()\n",
        "        self.process()\n",
        "\n",
        "    def build_graph(self, idx):\n",
        "        edge_feature = self.norm_losses[idx, :, :].reshape((self.KM[0] * self.KM[1], 1), order='F')\n",
        "        # x = self.direct[idx, :, :].reshape((self.KM[0] * self.KM[1], 1), order='F')\n",
        "        edge_feature = np.concatenate((edge_feature,  np.ones_like(edge_feature)), axis=-1)\n",
        "        edge_feature = torch.tensor(edge_feature, dtype=torch.float)\n",
        "\n",
        "        edge_index = torch.tensor(self.adj, dtype=torch.long).t().contiguous()\n",
        "        edge_index_t = torch.tensor(self.adj_t, dtype=torch.long).t().contiguous()\n",
        "        ue_features = torch.ones((self.KM[0], 1)) #K\n",
        "        ap_features = torch.ones((self.KM[1], 1)) #M\n",
        "\n",
        "        edge_sum_ue = torch.sum(edge_feature.reshape(self.KM[0], self.KM[1], 2), axis=1)\n",
        "        edge_sum_ap = torch.sum(edge_feature.reshape(self.KM[0], self.KM[1], 2), axis=0).reshape(self.KM[1], 2)\n",
        "\n",
        "        data = HeteroData()\n",
        "        data['UE'].x = ue_features\n",
        "        data['AP'].x = ap_features\n",
        "        data['UE', 'com-by', 'AP'].edge_index = edge_index\n",
        "        data['UE', 'com-by', 'AP'].edge_attr = edge_feature\n",
        "        data['AP', 'com', 'UE'].edge_index = edge_index_t\n",
        "        data['AP', 'com', 'UE'].edge_attr = edge_feature\n",
        "        data['UE'].edge_sum = edge_sum_ue\n",
        "        data['AP'].edge_sum = edge_sum_ap\n",
        "        return data\n",
        "\n",
        "    def get_cg(self):\n",
        "        self.adj = []\n",
        "        self.adj_t = []\n",
        "        for i in range(self.KM[0]):\n",
        "            for j in range(self.KM[1]):\n",
        "                self.adj.append([i, j])\n",
        "                self.adj_t.append([j, i])\n",
        "\n",
        "    def process(self):\n",
        "        self.graph_list = [self.build_graph(i) for i in range(len(self.direct))]\n",
        "\n",
        "    def __len__(self):\n",
        "        return len(self.direct)\n",
        "\n",
        "    def __getitem__(self, index):\n",
        "        return self.graph_list[index], self.direct[index], self.cross[index]"
      ]
    },
    {
      "cell_type": "code",
      "execution_count": 7,
      "id": "c2afeca5-f804-49e7-b89c-42c99bf9aeac",
      "metadata": {
        "id": "c2afeca5-f804-49e7-b89c-42c99bf9aeac"
      },
      "outputs": [],
      "source": [
        "def collate(samples):\n",
        "    '''Pytorch Geometric collate function'''\n",
        "    graphs, direct, cross = map(list, zip(*samples))\n",
        "    batched_graph = Batch.from_data_list(graphs)\n",
        "    return batched_graph, torch.stack(direct), torch.stack(cross)"
      ]
    },
    {
      "cell_type": "markdown",
      "id": "f51f02da-4c7d-40f7-9317-c6030074f439",
      "metadata": {
        "id": "f51f02da-4c7d-40f7-9317-c6030074f439"
      },
      "source": [
        "## Build Graph Neural Networks"
      ]
    },
    {
      "cell_type": "code",
      "execution_count": 8,
      "id": "2PEbjOht7hUJ",
      "metadata": {
        "id": "2PEbjOht7hUJ"
      },
      "outputs": [],
      "source": [
        "def MLP(channels, batch_norm=True):\n",
        "    return Seq(*[\n",
        "        Seq(Lin(channels[i - 1], channels[i]), ReLU(), BN(channels[i]))\n",
        "        for i in range(1, len(channels))\n",
        "    ])\n",
        "class EdgeConv(MessagePassing):\n",
        "    def __init__(self, input_dim, node_dim, **kwargs):\n",
        "        super(EdgeConv, self).__init__(aggr='mean')  # mean aggregation\n",
        "        self.lin = MLP([input_dim, 32])\n",
        "        self.res_lin = Lin(node_dim, 32)\n",
        "        self.bn = BN(32)\n",
        "\n",
        "    def forward(self, x, edge_index, edge_attr):\n",
        "\n",
        "        feat_src, feat_dst = x\n",
        "\n",
        "\n",
        "        out = self.propagate(edge_index=edge_index, x=(feat_src, feat_dst), edge_attr=edge_attr)\n",
        "\n",
        "\n",
        "        return self.bn(out + self.res_lin(feat_dst))\n",
        "\n",
        "    def message(self, x_j, x_i, edge_attr):\n",
        "        # Tạo ra thông điệp từ các nút nguồn, nút đích và đặc tính cạnh\n",
        "        out = torch.cat([x_j, x_i, edge_attr], dim=1)\n",
        "        return self.lin(out)\n",
        "\n",
        "    def update(self, aggr_out):\n",
        "        # Cập nhật giá trị nút đích sau khi tập hợp\n",
        "        return aggr_out\n",
        "\n"
      ]
    },
    {
      "cell_type": "code",
      "execution_count": 9,
      "id": "XOgvGlt-vj8a",
      "metadata": {
        "id": "XOgvGlt-vj8a"
      },
      "outputs": [],
      "source": [
        "class RGCN(nn.Module):\n",
        "    def __init__(self):\n",
        "        super(RGCN, self).__init__()\n",
        "        self.conv1 = HeteroConv({\n",
        "            ('UE', 'com-by', 'AP'): EdgeConv(4, 1),\n",
        "            ('AP', 'com', 'UE'): EdgeConv(4, 1)\n",
        "        }, aggr='mean')\n",
        "\n",
        "        self.conv2 = HeteroConv({\n",
        "            ('UE', 'com-by', 'AP'): EdgeConv(66, 32),\n",
        "            ('AP', 'com', 'UE'): EdgeConv(66, 32)\n",
        "        }, aggr='mean')\n",
        "\n",
        "        self.conv3 = HeteroConv({\n",
        "            ('UE', 'com-by', 'AP'): EdgeConv(66, 32),\n",
        "            ('AP', 'com', 'UE'): EdgeConv(66, 32)\n",
        "        }, aggr='mean')\n",
        "\n",
        "        self.mlp = MLP([32, 16])\n",
        "        self.mlp = nn.Sequential(*[self.mlp, Seq(Lin(16, 1), Sigmoid())])\n",
        "\n",
        "    def forward(self,x_dict, edge_index_dict, edge_attr_dict):\n",
        "        out = self.conv1(x_dict, edge_index_dict, edge_attr_dict)\n",
        "        out = self.conv2(out, edge_index_dict, edge_attr_dict)\n",
        "        out = self.conv3(out, edge_index_dict, edge_attr_dict)\n",
        "        out = self.mlp(out['UE'])\n",
        "        return out\n"
      ]
    },
    {
      "cell_type": "markdown",
      "id": "JdeveKMKbX2W",
      "metadata": {
        "id": "JdeveKMKbX2W"
      },
      "source": [
        "## Function"
      ]
    },
    {
      "cell_type": "code",
      "execution_count": 10,
      "id": "LuPirVfubdYY",
      "metadata": {
        "id": "LuPirVfubdYY"
      },
      "outputs": [],
      "source": [
        "def rate_loss(allocs, directlink_channel_losses, crosslink_channel_losses, test_mode = False):\n",
        "    SINRs_numerators = allocs * directlink_channel_losses**2\n",
        "    SINRs_denominators = torch.squeeze(torch.matmul(crosslink_channel_losses, torch.unsqueeze(allocs, axis=-1))) + directlink_channel_losses\n",
        "    SINRs = SINRs_numerators / SINRs_denominators\n",
        "    rates = torch.log2(1 + SINRs)\n",
        "    min_rate = torch.min(rates, dim = 1)[0] # take min\n",
        "    if test_mode:\n",
        "        return min_rate\n",
        "    else:\n",
        "        return -torch.mean(min_rate)"
      ]
    },
    {
      "cell_type": "code",
      "execution_count": 11,
      "id": "R0uQKs4aTs3e",
      "metadata": {
        "id": "R0uQKs4aTs3e"
      },
      "outputs": [],
      "source": [
        "def train_model(epoch, model, optimizer, train_loader):\n",
        "    \"\"\" Train for one epoch. \"\"\"\n",
        "    model.train()\n",
        "    loss_all = 0\n",
        "    for batch_idx, (data, d_train, c_train) in enumerate(train_loader):\n",
        "        K = d_train.shape[-1]\n",
        "        n = len(data['UE'].x)\n",
        "        bs = len(data['UE'].x) // K\n",
        "\n",
        "        optimizer.zero_grad()\n",
        "\n",
        "        # Lấy các đặc trưng nút từ từ điển x_dict\n",
        "        user_feats = data['AP'].x\n",
        "        item_feats = data['UE'].x\n",
        "        node_features = {'AP': user_feats, 'UE': item_feats}\n",
        "\n",
        "        # Truyền qua mô hình, bao gồm cả edge_attr_dict\n",
        "        output = model(node_features, data.edge_index_dict, data.edge_attr_dict).reshape(bs, -1)\n",
        "        # Tính loss và thực hiện backpropagation\n",
        "        loss = rate_loss(output, d_train, c_train)\n",
        "        loss.backward()\n",
        "\n",
        "        loss_all += loss.item() * bs\n",
        "        optimizer.step()\n",
        "\n",
        "    return loss_all / len(train_loader.dataset)\n",
        "\n",
        "def test_model(loader, model):\n",
        "    model.eval()\n",
        "    correct = 0\n",
        "    with torch.no_grad():\n",
        "        for (data, d_test, c_test) in loader:\n",
        "            K = d_test.shape[-1]\n",
        "            n = len(data['UE'].x)\n",
        "            bs = len(data['UE'].x) // K\n",
        "\n",
        "            # Lấy các đặc trưng nút từ từ điển x_dict\n",
        "            user_feats = data['AP'].x\n",
        "            item_feats = data['UE'].x\n",
        "            # Create a dictionary for node features\n",
        "            node_features = {'AP': user_feats, 'UE': item_feats}\n",
        "\n",
        "            output = model(node_features, data.edge_index_dict, data.edge_attr_dict).reshape(bs, -1)\n",
        "\n",
        "            # Tính loss\n",
        "            loss = rate_loss(output, d_test, c_test)\n",
        "            correct += loss.item() * bs\n",
        "\n",
        "    return correct / len(loader.dataset)"
      ]
    },
    {
      "cell_type": "markdown",
      "id": "hWtuCcHnbaDN",
      "metadata": {
        "id": "hWtuCcHnbaDN"
      },
      "source": [
        "## Main"
      ]
    },
    {
      "cell_type": "markdown",
      "id": "955181fd-3f5e-4856-a2ca-76cd3fc0f1ca",
      "metadata": {
        "id": "955181fd-3f5e-4856-a2ca-76cd3fc0f1ca"
      },
      "source": [
        "### Load and Normalize Data"
      ]
    },
    {
      "cell_type": "code",
      "execution_count": 12,
      "id": "27616693-bb64-4541-b4b7-20ec4a1dd4d8",
      "metadata": {
        "id": "27616693-bb64-4541-b4b7-20ec4a1dd4d8"
      },
      "outputs": [],
      "source": [
        "train_layouts = 100\n",
        "test_layouts = 50"
      ]
    },
    {
      "cell_type": "code",
      "execution_count": 13,
      "id": "fef5f5e7-b31f-40b0-83cc-fc71a8ed7eb1",
      "metadata": {
        "id": "fef5f5e7-b31f-40b0-83cc-fc71a8ed7eb1"
      },
      "outputs": [],
      "source": [
        "data = scipy.io.loadmat('cf_train_6_30.mat')\n",
        "beta_train = data['betas'][:train_layouts]\n",
        "direct_train = data['directs'][:train_layouts]\n",
        "cross_train = data['corsses'][:train_layouts].transpose(0,2,1)"
      ]
    },
    {
      "cell_type": "code",
      "execution_count": 14,
      "id": "b9be47c6-6986-41f0-a521-276c94c64a09",
      "metadata": {
        "id": "b9be47c6-6986-41f0-a521-276c94c64a09"
      },
      "outputs": [],
      "source": [
        "test_data = scipy.io.loadmat('cf_test_6_30.mat')\n",
        "beta_test = test_data['betas'][:test_layouts]\n",
        "direct_test = test_data['directs'][:test_layouts]\n",
        "cross_test = test_data['corsses'][:test_layouts].transpose(0,2,1)"
      ]
    },
    {
      "cell_type": "code",
      "execution_count": 15,
      "id": "9xKdsvB-sc2f",
      "metadata": {
        "id": "9xKdsvB-sc2f"
      },
      "outputs": [],
      "source": [
        "opt_rate = test_data['R_cf_opt_min']"
      ]
    },
    {
      "cell_type": "code",
      "execution_count": 16,
      "id": "KjVfVQAVdzB4",
      "metadata": {
        "colab": {
          "base_uri": "https://localhost:8080/"
        },
        "id": "KjVfVQAVdzB4",
        "outputId": "5d0b356a-2a20-4d5b-bc32-94d7ed63a548"
      },
      "outputs": [
        {
          "data": {
            "text/plain": [
              "1.1406364073519204"
            ]
          },
          "execution_count": 16,
          "metadata": {},
          "output_type": "execute_result"
        }
      ],
      "source": [
        "np.mean(opt_rate)"
      ]
    },
    {
      "cell_type": "code",
      "execution_count": 17,
      "id": "57g_5I6zcgX6",
      "metadata": {
        "id": "57g_5I6zcgX6"
      },
      "outputs": [],
      "source": [
        "norm_train_losses, norm_test_losses = normalize_data(beta_train**(1/2), beta_test**(1/2) )"
      ]
    },
    {
      "cell_type": "code",
      "execution_count": 18,
      "id": "13391c00-16d9-4f62-a7ac-839f4d57d0be",
      "metadata": {
        "id": "13391c00-16d9-4f62-a7ac-839f4d57d0be"
      },
      "outputs": [],
      "source": [
        "## For GNNs, we allow train_K \\neq test_K\n",
        "train_K, train_M = beta_train.shape[2], beta_train.shape[1]\n",
        "test_K, test_M = beta_test.shape[2], beta_test.shape[1]"
      ]
    },
    {
      "cell_type": "code",
      "execution_count": 19,
      "id": "b12f3975-990b-40c5-8def-1317b943b47a",
      "metadata": {
        "id": "b12f3975-990b-40c5-8def-1317b943b47a"
      },
      "outputs": [],
      "source": [
        "train_data = PCDataset(norm_train_losses, direct_train, cross_train, (train_K, train_M))\n",
        "test_data = PCDataset(norm_test_losses, direct_test, cross_test, (test_K, test_M))"
      ]
    },
    {
      "cell_type": "code",
      "execution_count": 20,
      "id": "37ec3c11-b549-474d-8e64-031a277e3c3d",
      "metadata": {
        "id": "37ec3c11-b549-474d-8e64-031a277e3c3d"
      },
      "outputs": [],
      "source": [
        "batch_size = 32\n",
        "train_loader = DataLoader(train_data, batch_size, shuffle=True, collate_fn=collate)\n",
        "test_loader = DataLoader(test_data, batch_size, shuffle=False, collate_fn=collate)\n",
        "eval_loader = DataLoader(test_data, test_layouts, shuffle=False, collate_fn=collate)"
      ]
    },
    {
      "cell_type": "code",
      "execution_count": 21,
      "id": "J8jWRlnGTNJu",
      "metadata": {
        "id": "J8jWRlnGTNJu"
      },
      "outputs": [],
      "source": [
        "model = RGCN()\n",
        "optimizer = torch.optim.Adam(model.parameters(), lr=5e-5)\n",
        "scheduler = torch.optim.lr_scheduler.StepLR(optimizer, step_size=20, gamma=0.9)"
      ]
    },
    {
      "cell_type": "code",
      "execution_count": 22,
      "id": "sNa9BQm8FIIk",
      "metadata": {
        "colab": {
          "base_uri": "https://localhost:8080/"
        },
        "id": "sNa9BQm8FIIk",
        "outputId": "50b4682b-f659-4b36-aa01-8e1a47b2b1e6"
      },
      "outputs": [
        {
          "name": "stdout",
          "output_type": "stream",
          "text": [
            "Number of trainable parameters: 14593\n"
          ]
        }
      ],
      "source": [
        "trainable_params = sum(p.numel() for p in model.parameters() if p.requires_grad)\n",
        "print(f\"Number of trainable parameters: {trainable_params}\")"
      ]
    },
    {
      "cell_type": "code",
      "execution_count": 23,
      "id": "26c5c83d-9619-4615-ac4a-dd987a8aff2e",
      "metadata": {
        "colab": {
          "base_uri": "https://localhost:8080/"
        },
        "id": "26c5c83d-9619-4615-ac4a-dd987a8aff2e",
        "outputId": "870bd6a0-1357-469e-d34d-576037b3c230"
      },
      "outputs": [
        {
          "name": "stdout",
          "output_type": "stream",
          "text": [
            "Epoch 000, Train Rate: -0.5831, Test Rate: -0.4527\n",
            "Epoch 001, Train Rate: -0.5841, Test Rate: -0.4536\n",
            "Epoch 002, Train Rate: -0.5857, Test Rate: -0.4548\n",
            "Epoch 003, Train Rate: -0.5860, Test Rate: -0.4552\n",
            "Epoch 004, Train Rate: -0.5863, Test Rate: -0.4554\n",
            "Epoch 005, Train Rate: -0.5831, Test Rate: -0.4525\n",
            "Epoch 006, Train Rate: -0.5814, Test Rate: -0.4501\n",
            "Epoch 007, Train Rate: -0.5824, Test Rate: -0.4514\n",
            "Epoch 008, Train Rate: -0.5859, Test Rate: -0.4565\n",
            "Epoch 009, Train Rate: -0.5924, Test Rate: -0.4642\n",
            "Epoch 010, Train Rate: -0.5997, Test Rate: -0.4739\n",
            "Epoch 011, Train Rate: -0.6077, Test Rate: -0.4832\n",
            "Epoch 012, Train Rate: -0.6145, Test Rate: -0.4925\n",
            "Epoch 013, Train Rate: -0.6184, Test Rate: -0.4955\n",
            "Epoch 014, Train Rate: -0.6298, Test Rate: -0.5052\n",
            "Epoch 015, Train Rate: -0.6383, Test Rate: -0.5102\n",
            "Epoch 016, Train Rate: -0.6456, Test Rate: -0.5141\n",
            "Epoch 017, Train Rate: -0.6595, Test Rate: -0.5199\n",
            "Epoch 018, Train Rate: -0.6719, Test Rate: -0.5282\n",
            "Epoch 019, Train Rate: -0.6824, Test Rate: -0.5329\n"
          ]
        }
      ],
      "source": [
        "record_gnn = []\n",
        "\n",
        "for epoch in range(0, 20):\n",
        "    if epoch % 1 == 0:\n",
        "        with torch.no_grad():\n",
        "            test_rate = test_model(test_loader, model)\n",
        "            train_rate = test_model(train_loader, model)\n",
        "        print(f'Epoch {epoch:03d}, Train Rate: {train_rate:.4f}, Test Rate: {test_rate:.4f}')\n",
        "        record_gnn.append([train_rate, test_rate])\n",
        "\n",
        "    train_model(epoch, model, optimizer, train_loader )\n",
        "    scheduler.step()\n"
      ]
    },
    {
      "cell_type": "markdown",
      "id": "0675224f-7bea-4eb5-ad32-9f20df27b064",
      "metadata": {
        "id": "0675224f-7bea-4eb5-ad32-9f20df27b064"
      },
      "source": [
        "## Plot CDF"
      ]
    },
    {
      "cell_type": "code",
      "execution_count": null,
      "id": "R9ahSsNEbKgJ",
      "metadata": {
        "id": "R9ahSsNEbKgJ"
      },
      "outputs": [],
      "source": [
        "import matplotlib.pyplot as plt\n",
        "for (data, d_test, c_test) in eval_loader:\n",
        "    K = d_test.shape[-1]\n",
        "    n = len(data['UE'].x)\n",
        "    bs = len(data['UE'].x) // K\n",
        "    #data = data.to(device)\n",
        "    user_feats = data['AP'].x\n",
        "    item_feats = data['UE'].x\n",
        "    node_features = {'AP': user_feats, 'UE': item_feats}\n",
        "    output = model(node_features, data.edge_index_dict, data.edge_attr_dict).reshape(bs,-1)\n",
        "    gnn_rates = rate_loss(output, d_test, c_test, True).flatten().detach().numpy()\n",
        "\n",
        "    full = torch.ones_like(output)\n",
        "    all_one_rates = rate_loss(full, d_test, c_test, True).flatten().numpy()\n",
        "\n",
        "## Load optimal resource allocation from .mat file\n",
        "test_data = scipy.io.loadmat('cf_test_6_30.mat')\n",
        "opt_rates = test_data['R_cf_opt_min'][:,:test_layouts]"
      ]
    },
    {
      "cell_type": "code",
      "execution_count": 25,
      "id": "a9310a8b-1298-4f74-aad9-f55f47a7062d",
      "metadata": {
        "id": "a9310a8b-1298-4f74-aad9-f55f47a7062d"
      },
      "outputs": [],
      "source": [
        "num_ep = test_layouts\n",
        "min_rate, max_rate = 0, 2\n",
        "y_axis = np.arange(0, 1.0, 1/(num_ep+2))\n",
        "gnn_rates.sort(); all_one_rates.sort(); opt_rates.sort()\n",
        "gnn_rates = np.insert(gnn_rates, 0, min_rate); gnn_rates = np.insert(gnn_rates,num_ep+1,max_rate)\n",
        "all_one_rates = np.insert(all_one_rates, 0, min_rate); all_one_rates = np.insert(all_one_rates,num_ep+1,max_rate)\n",
        "opt_rates = np.insert(opt_rates, 0, min_rate); opt_rates = np.insert(opt_rates,num_ep+1,max_rate)"
      ]
    },
    {
      "cell_type": "code",
      "execution_count": 26,
      "id": "d470390c-cd23-4cf9-813a-bb70c1c00f10",
      "metadata": {
        "colab": {
          "base_uri": "https://localhost:8080/",
          "height": 455
        },
        "id": "d470390c-cd23-4cf9-813a-bb70c1c00f10",
        "outputId": "10f39f9d-8a99-46a2-8335-efce5e655982"
      },
      "outputs": [
        {
          "data": {
            "image/png": "[encoded data removed]",
            "text/plain": [
              "<Figure size 640x480 with 1 Axes>"
            ]
          },
          "metadata": {},
          "output_type": "display_data"
        }
      ],
      "source": [
        "plt.plot(gnn_rates, y_axis, label = 'GNN')\n",
        "plt.plot(opt_rates, y_axis, label = 'Optimal')\n",
        "plt.plot(all_one_rates, y_axis, label = 'Maximum Power')\n",
        "plt.xlabel('Minimum rate [bps/Hz]', {'fontsize':16})\n",
        "plt.ylabel('Empirical CDF', {'fontsize':16})\n",
        "plt.legend(fontsize = 12)\n",
        "plt.grid()"
      ]
    },
    {
      "cell_type": "markdown",
      "id": "uClZlcXpw0o0",
      "metadata": {
        "id": "uClZlcXpw0o0"
      },
      "source": [
        "# Graph Data"
      ]
    },
    {
      "cell_type": "code",
      "execution_count": 27,
      "id": "-hKKVfxxw2rh",
      "metadata": {
        "id": "-hKKVfxxw2rh"
      },
      "outputs": [],
      "source": [
        "from torch_geometric.data import Dataset, Data\n",
        "from torch_geometric.loader import DataLoader\n",
        "\n",
        "class cfGraphDataset(Dataset):\n",
        "    def __init__(self, norm_losses, direct, cross, KM):\n",
        "        self.norm_losses = norm_losses\n",
        "        self.direct = torch.tensor(direct, dtype=torch.float32)\n",
        "        self.cross = torch.tensor(cross, dtype=torch.float32)\n",
        "        self.KM = KM\n",
        "\n",
        "        self.num_samples, self.num_AP, self.num_UE = self.norm_losses.shape\n",
        "\n",
        "        self.num_nodes = self.num_AP * self.num_UE\n",
        "\n",
        "        # Generate the dataset (graphs and labels)\n",
        "        self.graphs = [self.create_graph(idx) for idx in range(self.num_samples)]\n",
        "\n",
        "    def create_graph(self, idx):\n",
        "        H = self.norm_losses[idx]\n",
        "        x = torch.tensor(H.flatten()[:,None], dtype=torch.float32)\n",
        "\n",
        "        # Fully connected graph\n",
        "        edge_index = torch.tensor([\n",
        "            [i, j] for i in range(self.num_nodes) for j in range(i+1, self.num_nodes) #if i != j\n",
        "            # [i, j] for i in range(self.num_nodes) for j in range(self.num_nodes) if i != j\n",
        "        ], dtype=torch.long).T  # shape: [2, num_edges]\n",
        "\n",
        "        node_indices = np.arange(self.num_nodes)\n",
        "        row_indices, col_indices = np.unravel_index(node_indices, (self.num_AP, self.num_UE))\n",
        "        node_feat = H[row_indices, col_indices]\n",
        "        edge_attr_mtx = H[row_indices[:, None], col_indices[None, :]]\n",
        "        edge_attr_mtx = torch.tensor(edge_attr_mtx, dtype=torch.float32)\n",
        "        # edge_attr = edge_attr_mtx[edge_index[0], edge_index[1]][:,None]\n",
        "        edge_attr = torch.cat([edge_attr_mtx[edge_index[0], edge_index[1]][:,None], edge_attr_mtx[edge_index[1], edge_index[0]][:,None]], dim=-1)\n",
        "\n",
        "        # y = torch.tensor(self.labels[idx], dtype=torch.float32)\n",
        "\n",
        "        data = Data(\n",
        "            x=x,\n",
        "            edge_index=edge_index,\n",
        "            edge_attr=edge_attr,\n",
        "            direct = self.direct[idx],\n",
        "            cross = self.cross[idx],\n",
        "            # y=y\n",
        "        )\n",
        "        return data\n",
        "\n",
        "    def __len__(self):\n",
        "        return self.num_samples\n",
        "\n",
        "    def __getitem__(self, idx):\n",
        "        return self.graphs[idx], self.direct[idx], self.cross[idx]"
      ]
    },
    {
      "cell_type": "markdown",
      "id": "IZRrIk0suOjC",
      "metadata": {
        "id": "IZRrIk0suOjC"
      },
      "source": [
        "# Utils"
      ]
    },
    {
      "cell_type": "code",
      "execution_count": 28,
      "id": "4HSSwaXruVfb",
      "metadata": {
        "id": "4HSSwaXruVfb"
      },
      "outputs": [],
      "source": [
        "import torch\n",
        "import random\n",
        "from collections import defaultdict"
      ]
    },
    {
      "cell_type": "code",
      "execution_count": 29,
      "id": "3oI9vXQ4uShl",
      "metadata": {
        "id": "3oI9vXQ4uShl"
      },
      "outputs": [],
      "source": [
        "def star_subgraph(adjacency_matrix, subgraph_size=4):\n",
        "    num_nodes = adjacency_matrix.shape[0]\n",
        "    subgraph_indices = []\n",
        "    uncovered_neighbors = set(range(num_nodes))  # All nodes should be covered as neighbors at least once\n",
        "\n",
        "    leaf_counts = defaultdict(int)\n",
        "\n",
        "    seed_nodes = list(range(num_nodes))\n",
        "    random.shuffle(seed_nodes)\n",
        "\n",
        "    for center_node in seed_nodes:\n",
        "        neighbors = [i for i in range(num_nodes) if adjacency_matrix[center_node, i] != 0 and i != center_node]\n",
        "        k = subgraph_size - 1\n",
        "\n",
        "        candidates = neighbors  # Already excludes center node\n",
        "\n",
        "        # Case 1: Not enough neighbors → take all of them\n",
        "        if len(candidates) <= k:\n",
        "            sampled_neighbors = candidates\n",
        "\n",
        "        else:\n",
        "            available_new = list(set(candidates) & uncovered_neighbors)\n",
        "\n",
        "            # Case 2a: enough new nodes → sample from them\n",
        "            if len(available_new) >= k:\n",
        "                sampled_neighbors = random.sample(available_new, k)\n",
        "\n",
        "            # Case 2b: not enough new nodes → take all + fill from candidates\n",
        "            else:\n",
        "                sampled_neighbors = available_new\n",
        "                remaining_k = k - len(sampled_neighbors)\n",
        "                remaining_pool = list(set(candidates) - set(sampled_neighbors))\n",
        "                remaining_pool.sort(key=lambda x: leaf_counts[x])\n",
        "\n",
        "                sampled_neighbors += remaining_pool[:remaining_k]\n",
        "\n",
        "        # Update uncovered neighbor set\n",
        "        uncovered_neighbors -= set(sampled_neighbors)\n",
        "        for node in sampled_neighbors:\n",
        "            leaf_counts[node] += 1\n",
        "\n",
        "        # Add center + its sampled neighbors\n",
        "        subgraph = [center_node] + sampled_neighbors\n",
        "        subgraph_indices.append(subgraph)\n",
        "\n",
        "    return subgraph_indices\n"
      ]
    },
    {
      "cell_type": "code",
      "execution_count": null,
      "id": "i4ffHwJwK0Pj",
      "metadata": {
        "id": "i4ffHwJwK0Pj"
      },
      "outputs": [],
      "source": []
    },
    {
      "cell_type": "code",
      "execution_count": 30,
      "id": "PT4EP_5KJy5z",
      "metadata": {
        "id": "PT4EP_5KJy5z"
      },
      "outputs": [],
      "source": [
        "def train(model, train_loader, optimizer):\n",
        "    model.train()\n",
        "    total_loss = 0\n",
        "    total_sample = 0\n",
        "    for data, direct, cross in train_loader:\n",
        "        bs = data.num_graphs\n",
        "        M = direct.shape[1]\n",
        "        K = data.x.shape[0] // M // bs\n",
        "        optimizer.zero_grad()\n",
        "\n",
        "        output = model(data.x, data.edge_attr, data.edge_index, data.batch) # .reshape(bs, -1)\n",
        "        # output = output.reshape(bs,-1)\n",
        "        power = output.reshape(bs, M, K)\n",
        "        power = torch.mean(power, dim=2)\n",
        "        loss = rate_loss(power, direct, cross)\n",
        "        loss.backward()\n",
        "\n",
        "        total_loss += loss.item() * bs\n",
        "        total_sample += bs\n",
        "        optimizer.step()\n",
        "\n",
        "    return total_loss / total_sample\n",
        "\n",
        "def test(model, test_loader):\n",
        "    model.eval()\n",
        "    total_loss = 0\n",
        "    total_sample = 0\n",
        "    with torch.no_grad():\n",
        "        for data, direct, cross in test_loader:\n",
        "            bs = data.num_graphs\n",
        "            M = direct.shape[1]\n",
        "            K = data.x.shape[0] // M // bs\n",
        "            # optimizer.zero_grad()\n",
        "\n",
        "            output = model(data.x, data.edge_attr, data.edge_index, data.batch) # .reshape(bs, -1)\n",
        "            # output = output.reshape(bs,-1)\n",
        "            power = output.reshape(bs, M, K)\n",
        "            power = torch.mean(power, dim=2)\n",
        "            loss = rate_loss(power, direct, cross)\n",
        "            # loss.backward()\n",
        "\n",
        "            total_loss += loss.item() * bs\n",
        "            total_sample += bs\n",
        "\n",
        "    return total_loss / total_sample"
      ]
    },
    {
      "cell_type": "markdown",
      "id": "Bb-Ai6bit6FF",
      "metadata": {
        "id": "Bb-Ai6bit6FF"
      },
      "source": [
        "# QGNN Model"
      ]
    },
    {
      "cell_type": "markdown",
      "id": "9l455xQAwdQ_",
      "metadata": {
        "id": "9l455xQAwdQ_"
      },
      "source": [
        "## PQC"
      ]
    },
    {
      "cell_type": "code",
      "execution_count": 63,
      "id": "sxOgUSXOt9WR",
      "metadata": {
        "colab": {
          "base_uri": "https://localhost:8080/"
        },
        "id": "sxOgUSXOt9WR",
        "outputId": "7785a5eb-524c-4057-b491-0b1781121a96"
      },
      "outputs": [],
      "source": [
        "import torch\n",
        "import torch.nn as nn\n",
        "import pennylane as qml\n",
        "from pennylane import numpy as np\n",
        "import torch.nn.functional as F\n",
        "from torch_geometric.nn import MLP, global_add_pool, global_mean_pool, global_max_pool\n",
        "\n",
        "def message_passing_pqc(strong, twodesign, inits, wires):\n",
        "    edge, center, neighbor, ancilla1, ancilla2 = wires\n",
        "\n",
        "    qml.CRX(inits[0, 0], wires=[neighbor, ancilla1])\n",
        "    qml.CRY(inits[0, 1], wires=[edge, ancilla1])\n",
        "    qml.CRZ(inits[0, 2], wires=[neighbor, ancilla2])\n",
        "    qml.CRY(inits[0, 3], wires=[edge, ancilla2])\n",
        "    # qml.StronglyEntanglingLayers(weights=strong[0], wires=[edge, neighbor, ancilla1])\n",
        "    # qml.StronglyEntanglingLayers(weights=strong[1], wires=[ancilla1, neighbor, ancilla2])\n",
        "\n",
        "\n",
        "def qgcn_enhance_layer(inputs, spreadlayer, strong, twodesign, inits, update):\n",
        "    edge_feat_dim = feat_dim = node_feat_dim = 2\n",
        "    inputs = inputs.reshape(-1,feat_dim)\n",
        "\n",
        "    # The number of avaible nodes and edges\n",
        "    total_shape = inputs.shape[0]\n",
        "    num_nodes = (total_shape+1)//2\n",
        "    num_edges = num_nodes - 1\n",
        "\n",
        "    adjacency_matrix, vertex_features = inputs[:num_edges,:], inputs[num_edges:,:]\n",
        "\n",
        "    # The number of qubits assiged to each node and edge\n",
        "    num_qbit = spreadlayer.shape[1]\n",
        "    num_nodes_qbit = (num_qbit+1)//2\n",
        "    num_edges_qbit = num_nodes_qbit - 1\n",
        "\n",
        "    center_wire = num_edges_qbit\n",
        "\n",
        "\n",
        "    for i in range(num_edges):\n",
        "        qml.RY(adjacency_matrix[i][0], wires=i)\n",
        "        qml.RZ(adjacency_matrix[i][1], wires=i)\n",
        "        # qml.RX(adjacency_matrix[i][2], wires=i)\n",
        "\n",
        "    for i in range(num_nodes):\n",
        "        qml.RY(vertex_features[i][0], wires=center_wire+i)\n",
        "        qml.RZ(vertex_features[i][1], wires=center_wire+i)\n",
        "        # qml.RX(vertex_features[i][2], wires=center_wire+i)\n",
        "\n",
        "\n",
        "    for i in range(num_edges):\n",
        "\n",
        "        message_passing_pqc(strong=strong, twodesign=twodesign, inits=inits,\n",
        "                            wires=[i, center_wire, center_wire+i+1, num_qbit, num_qbit+1])\n",
        "\n",
        "    qml.StronglyEntanglingLayers(\n",
        "        weights=update[0],\n",
        "        wires=[center_wire, num_qbit, num_qbit+1]\n",
        "        )\n",
        "    # probs = qml.probs(wires=[center_wire, num_qbit, num_qbit+1])\n",
        "    # return probs\n",
        "    # expval = [qml.expval(qml.PauliZ(w)) for w in [center_wire, num_qbit, num_qbit+1]]\n",
        "    expval = [\n",
        "        qml.expval(qml.PauliX(center_wire))\n",
        "    ]\n",
        "    return expval\n",
        "\n",
        "\n",
        "def small_normal_init(tensor):\n",
        "    return torch.nn.init.normal_(tensor, mean=0.0, std=0.1)\n",
        "\n",
        "def uniform_pi_init(tensor):\n",
        "    return nn.init.uniform_(tensor, a=0.0, b=np.pi)\n",
        "\n",
        "def identity_block_init(tensor):\n",
        "    with torch.no_grad():\n",
        "        tensor.zero_()\n",
        "        if tensor.ndim < 1:\n",
        "            return tensor  # scalar param\n",
        "\n",
        "        # Total number of parameters\n",
        "        total_params = tensor.numel()\n",
        "        num_active = max(1, total_params // 3)\n",
        "\n",
        "        # Flatten, randomize, and reshape\n",
        "        flat = tensor.view(-1)\n",
        "        active_idx = torch.randperm(flat.shape[0])[:num_active]\n",
        "        flat[active_idx] = torch.randn_like(flat[active_idx]) * 0.1\n",
        "\n",
        "        return tensor\n",
        "\n",
        "def input_process(tensor):\n",
        "    # return torch.clamp(tensor, -1.0, 1.0) * np.pi\n",
        "    return torch.tanh(tensor) * np.pi\n"
      ]
    },
    {
      "cell_type": "markdown",
      "id": "_n1ECCXbwb1H",
      "metadata": {
        "id": "_n1ECCXbwb1H"
      },
      "source": [
        "## Model"
      ]
    },
    {
      "cell_type": "code",
      "execution_count": 64,
      "id": "-6HgHd-swa4R",
      "metadata": {
        "id": "-6HgHd-swa4R"
      },
      "outputs": [],
      "source": [
        "class QGNN(nn.Module):\n",
        "    def __init__(self, q_dev, w_shapes, node_input_dim=1, edge_input_dim=1,\n",
        "                 graphlet_size=4, hop_neighbor=1):\n",
        "        super().__init__()\n",
        "        self.hidden_dim = 128\n",
        "        self.graphlet_size = graphlet_size\n",
        "        self.hop_neighbor = hop_neighbor\n",
        "        self.pqc_dim = 2 # number of feat per pqc for each node\n",
        "        self.chunk = 1\n",
        "        self.final_dim = self.pqc_dim * self.chunk # 2\n",
        "        self.pqc_out = 1 # probs?\n",
        "\n",
        "\n",
        "        self.qconvs = nn.ModuleDict()\n",
        "        self.upds = nn.ModuleDict()\n",
        "        self.aggs = nn.ModuleDict()\n",
        "        self.norms = nn.ModuleDict()\n",
        "\n",
        "\n",
        "        self.node_input_dim = node_input_dim\n",
        "        self.edge_input_dim = edge_input_dim if edge_input_dim > 0 else 1\n",
        "\n",
        "\n",
        "        self.input_node = MLP(\n",
        "                    [self.node_input_dim, self.hidden_dim, self.final_dim],\n",
        "                    act='leaky_relu',\n",
        "                    norm=None, dropout=0.3\n",
        "            )\n",
        "\n",
        "        self.input_edge = MLP(\n",
        "                    [self.edge_input_dim, self.hidden_dim, self.pqc_dim],\n",
        "                    act='leaky_relu',\n",
        "                    norm=None, dropout=0.3\n",
        "            )\n",
        "\n",
        "        for i in range(self.hop_neighbor):\n",
        "            qnode = qml.QNode(qgcn_enhance_layer, q_dev,  interface=\"torch\")\n",
        "            self.qconvs[f\"lay{i+1}\"] = qml.qnn.TorchLayer(qnode, w_shapes, uniform_pi_init)\n",
        "\n",
        "            self.upds[f\"lay{i+1}\"] = MLP(\n",
        "                    [self.pqc_dim + self.pqc_out, self.hidden_dim, self.pqc_dim],\n",
        "                    act='leaky_relu',\n",
        "                    norm=None, dropout=0.3\n",
        "            )\n",
        "\n",
        "            self.norms[f\"lay{i+1}\"] = nn.LayerNorm(self.pqc_dim)\n",
        "\n",
        "        self.final_layer = MLP(\n",
        "                [self.final_dim, self.hidden_dim, 1],\n",
        "                act='leaky_relu',\n",
        "                norm=None, dropout=0.3\n",
        "        )\n",
        "\n",
        "    def forward(self, node_feat, edge_attr, edge_index, batch):\n",
        "        edge_index = edge_index.t()\n",
        "        num_nodes = node_feat.size(0)\n",
        "        num_nodes_model = self.graphlet_size\n",
        "        num_edges_model = self.graphlet_size - 1\n",
        "\n",
        "        if edge_attr is None:\n",
        "            edge_attr = torch.ones((edge_index.size(0), self.edge_input_dim), device=node_feat.device)\n",
        "\n",
        "        edge_features = edge_attr.float()\n",
        "        node_features = node_feat.float()\n",
        "\n",
        "        edge_features = self.input_edge(edge_features)\n",
        "        node_features = self.input_node(node_features)\n",
        "\n",
        "        node_features = input_process(node_features)\n",
        "        # # node_features = node_features + 0.01 * torch.randn_like(node_features)\n",
        "        edge_features = input_process(edge_features)\n",
        "\n",
        "\n",
        "        idx_dict = {\n",
        "            (int(u), int(v)): i\n",
        "            for i, (u, v) in enumerate(edge_index.tolist())\n",
        "        }\n",
        "\n",
        "\n",
        "        adj_mtx = torch.zeros((num_nodes, num_nodes), dtype=torch.int)\n",
        "        adj_mtx[edge_index[:, 0], edge_index[:, 1]] = 1\n",
        "        adj_mtx[edge_index[:, 1], edge_index[:, 0]] = 1\n",
        "\n",
        "\n",
        "        for i in range(self.hop_neighbor):\n",
        "            subgraphs = star_subgraph(adj_mtx.cpu().numpy(), subgraph_size=self.graphlet_size)\n",
        "            node_upd = torch.zeros((num_nodes, self.final_dim), device=node_features.device)\n",
        "            q_layer = self.qconvs[f\"lay{i+1}\"]\n",
        "            upd_layer = self.upds[f\"lay{i+1}\"]\n",
        "            norm_layer = self.norms[f\"lay{i+1}\"]\n",
        "\n",
        "            # updates_node = node_features.clone()\n",
        "\n",
        "            centers = []\n",
        "            updates = []\n",
        "\n",
        "            for sub in subgraphs:\n",
        "                center, *neighbors = sub\n",
        "\n",
        "                n_feat = node_features[sub]\n",
        "                edge_idxs = [\n",
        "                    idx_dict[(min(center, int(n)), max(center, int(n)))] \n",
        "                    for n in neighbors \n",
        "                ]\n",
        "                e_feat    = edge_features[edge_idxs]\n",
        "                inputs = torch.cat([e_feat, n_feat], dim=0)\n",
        "\n",
        "                all_msg = q_layer(inputs.flatten())\n",
        "                aggr = all_msg\n",
        "                update_vec = upd_layer(torch.cat([node_features[center], aggr], dim=0))\n",
        "\n",
        "                centers.append(center)\n",
        "                updates.append(update_vec)\n",
        "\n",
        "            centers = torch.tensor(centers, device=node_features.device)\n",
        "            updates = torch.stack(updates, dim=0)\n",
        "            updates_node = torch.zeros_like(node_features)\n",
        "            updates_node = updates_node.index_add(0, centers, updates)\n",
        "\n",
        "            # node_features = norm_layer(updates_node + node_features)\n",
        "            node_features = updates_node + node_features\n",
        "        # graph_embedding = global_mean_pool(node_features, batch)\n",
        "\n",
        "        return torch.sigmoid(self.final_layer(node_features))"
      ]
    },
    {
      "cell_type": "markdown",
      "id": "I4dTsTPm9x43",
      "metadata": {
        "id": "I4dTsTPm9x43"
      },
      "source": [
        "# Main"
      ]
    },
    {
      "cell_type": "markdown",
      "id": "MPXDN-yM-cqX",
      "metadata": {
        "id": "MPXDN-yM-cqX"
      },
      "source": [
        "## Hyperparameters"
      ]
    },
    {
      "cell_type": "code",
      "execution_count": 76,
      "id": "R6iLOaDnv56K",
      "metadata": {
        "id": "R6iLOaDnv56K"
      },
      "outputs": [],
      "source": [
        "\n",
        "training_sam = 100\n",
        "testing_sam = 50\n",
        "num_epochs = 10\n",
        "batch_size = 16"
      ]
    },
    {
      "cell_type": "code",
      "execution_count": 77,
      "id": "4Xgky0EZxQJT",
      "metadata": {
        "id": "4Xgky0EZxQJT"
      },
      "outputs": [],
      "source": [
        "## Quantum hyperparameters\n",
        "graphlet_size = 4\n",
        "node_qubit = graphlet_size\n",
        "edge_qubit = node_qubit - 1\n",
        "n_qubits = node_qubit + edge_qubit\n",
        "device = torch.device(\"cuda\" if torch.cuda.is_available() else \"cpu\")\n",
        "q_dev = qml.device(\"default.qubit\", wires=n_qubits + 2) # number of ancilla qubits\n",
        "\n",
        "num_ent_layers = 1"
      ]
    },
    {
      "cell_type": "code",
      "execution_count": 78,
      "id": "V2FI1890xOEq",
      "metadata": {
        "id": "V2FI1890xOEq"
      },
      "outputs": [],
      "source": [
        "w_shapes_dict = {\n",
        "    'spreadlayer': (0, n_qubits, 1),\n",
        "    'strong': (2, num_ent_layers, 3, 3), # 3\n",
        "    # 'strong': (3, args.num_ent_layers, 2, 3), # 2\n",
        "    'inits': (1, 4),\n",
        "    'update': (1, num_ent_layers, 3, 3), # (1, args.num_ent_layers, 2, 3)\n",
        "    'twodesign': (0, num_ent_layers, 1, 2)\n",
        "}"
      ]
    },
    {
      "cell_type": "markdown",
      "id": "ZHmU3-6H-a_6",
      "metadata": {
        "id": "ZHmU3-6H-a_6"
      },
      "source": [
        "## Data loader"
      ]
    },
    {
      "cell_type": "code",
      "execution_count": 79,
      "id": "bKajFu7L-E7s",
      "metadata": {
        "id": "bKajFu7L-E7s"
      },
      "outputs": [],
      "source": [
        "data = scipy.io.loadmat('cf_train_6_30.mat')\n",
        "beta_train = data['betas'][:training_sam]\n",
        "direct_train = data['directs'][:training_sam]\n",
        "cross_train = data['corsses'][:training_sam].transpose(0,2,1)"
      ]
    },
    {
      "cell_type": "code",
      "execution_count": 80,
      "id": "3heuHLKc-E7s",
      "metadata": {
        "id": "3heuHLKc-E7s"
      },
      "outputs": [],
      "source": [
        "test_data = scipy.io.loadmat('cf_test_6_30.mat')\n",
        "beta_test = test_data['betas'][:testing_sam]\n",
        "direct_test = test_data['directs'][:testing_sam]\n",
        "cross_test = test_data['corsses'][:testing_sam].transpose(0,2,1)"
      ]
    },
    {
      "cell_type": "code",
      "execution_count": 81,
      "id": "eS0ExHBq-E7s",
      "metadata": {
        "id": "eS0ExHBq-E7s"
      },
      "outputs": [],
      "source": [
        "opt_rate = test_data['R_cf_opt_min'][:,:testing_sam]"
      ]
    },
    {
      "cell_type": "code",
      "execution_count": 82,
      "id": "uACZrxDY-E7s",
      "metadata": {
        "id": "uACZrxDY-E7s"
      },
      "outputs": [],
      "source": [
        "norm_train_losses, norm_test_losses = normalize_data(beta_train**(1/2), beta_test**(1/2) )"
      ]
    },
    {
      "cell_type": "code",
      "execution_count": 83,
      "id": "gEIzFyDA-E7s",
      "metadata": {
        "id": "gEIzFyDA-E7s"
      },
      "outputs": [],
      "source": [
        "## For GNNs, we allow train_K \\neq test_K\n",
        "train_K, train_M = beta_train.shape[2], beta_train.shape[1]\n",
        "test_K, test_M = beta_test.shape[2], beta_test.shape[1]"
      ]
    },
    {
      "cell_type": "code",
      "execution_count": 84,
      "id": "RqAhODeQ--ix",
      "metadata": {
        "colab": {
          "base_uri": "https://localhost:8080/"
        },
        "id": "RqAhODeQ--ix",
        "outputId": "6c2a722d-deaa-4df1-de33-de716ed472e0"
      },
      "outputs": [
        {
          "data": {
            "text/plain": [
              "(50, 30, 6)"
            ]
          },
          "execution_count": 84,
          "metadata": {},
          "output_type": "execute_result"
        }
      ],
      "source": [
        "norm_test_losses.shape"
      ]
    },
    {
      "cell_type": "code",
      "execution_count": 85,
      "id": "w3bUTaES91t7",
      "metadata": {
        "id": "w3bUTaES91t7"
      },
      "outputs": [],
      "source": [
        "train_dataset = cfGraphDataset(norm_train_losses, direct_train, cross_train, (train_K, train_M))\n",
        "test_dataset = cfGraphDataset(norm_test_losses, direct_test, cross_test, (test_K, test_M))\n",
        "\n",
        "train_loader = DataLoader(train_dataset, batch_size=batch_size, shuffle=True)\n",
        "test_loader = DataLoader(test_dataset, batch_size=batch_size, shuffle=False)"
      ]
    },
    {
      "cell_type": "code",
      "execution_count": 86,
      "id": "Bzwi66gW-gTW",
      "metadata": {
        "id": "Bzwi66gW-gTW"
      },
      "outputs": [],
      "source": [
        "node_input_dim = train_dataset[0][0].x.shape[1]\n",
        "edge_input_dim = train_dataset[0][0].edge_attr.shape[1]\n",
        "num_gnn_layers = 2"
      ]
    },
    {
      "cell_type": "code",
      "execution_count": 87,
      "id": "HTRTcCHc9zdM",
      "metadata": {
        "id": "HTRTcCHc9zdM"
      },
      "outputs": [],
      "source": [
        "import torch.optim.lr_scheduler as lr_scheduler\n",
        "\n",
        "model = QGNN(\n",
        "        q_dev=q_dev,\n",
        "        w_shapes=w_shapes_dict,\n",
        "        node_input_dim=node_input_dim,\n",
        "        edge_input_dim=edge_input_dim,\n",
        "        graphlet_size=node_qubit,\n",
        "        hop_neighbor=num_gnn_layers,\n",
        "        # num_classes=num_classes,\n",
        "        # one_hot=0\n",
        "    )\n",
        "\n",
        "optimizer = torch.optim.Adam(model.parameters(), lr=5e-2)\n",
        "scheduler = lr_scheduler.StepLR(optimizer, step_size=1, gamma=0.9)\n"
      ]
    },
    {
      "cell_type": "code",
      "execution_count": 88,
      "id": "tLiYXL099XeT",
      "metadata": {
        "id": "tLiYXL099XeT"
      },
      "outputs": [
        {
          "name": "stdout",
          "output_type": "stream",
          "text": [
            "Epoch 1/10, Training loss: 0.5842, Training SINR: -0.5842, Testing SINR: -0.4571\n",
            "Epoch 2/10, Training loss: 0.5880, Training SINR: -0.5880, Testing SINR: -0.4571\n",
            "Epoch 3/10, Training loss: 0.5880, Training SINR: -0.5880, Testing SINR: -0.4571\n",
            "Epoch 4/10, Training loss: 0.5880, Training SINR: -0.5880, Testing SINR: -0.4571\n"
          ]
        },
        {
          "ename": "KeyboardInterrupt",
          "evalue": "",
          "output_type": "error",
          "traceback": [
            "\u001b[1;31m---------------------------------------------------------------------------\u001b[0m",
            "\u001b[1;31mKeyboardInterrupt\u001b[0m                         Traceback (most recent call last)",
            "Cell \u001b[1;32mIn[88], line 5\u001b[0m\n\u001b[0;32m      2\u001b[0m testing_sinr \u001b[38;5;241m=\u001b[39m []\n\u001b[0;32m      3\u001b[0m \u001b[38;5;28;01mfor\u001b[39;00m epoch \u001b[38;5;129;01min\u001b[39;00m \u001b[38;5;28mrange\u001b[39m(num_epochs):\n\u001b[0;32m      4\u001b[0m     \u001b[38;5;66;03m# Train the model\u001b[39;00m\n\u001b[1;32m----> 5\u001b[0m     avg_train_loss \u001b[38;5;241m=\u001b[39m \u001b[43mtrain\u001b[49m\u001b[43m(\u001b[49m\u001b[43mmodel\u001b[49m\u001b[43m,\u001b[49m\u001b[43m \u001b[49m\u001b[43mtrain_loader\u001b[49m\u001b[43m,\u001b[49m\u001b[43m \u001b[49m\u001b[43moptimizer\u001b[49m\u001b[43m)\u001b[49m\n\u001b[0;32m      6\u001b[0m     scheduler\u001b[38;5;241m.\u001b[39mstep()\n\u001b[0;32m      7\u001b[0m     avg_test_sinr \u001b[38;5;241m=\u001b[39m test(model, test_loader)\n",
            "Cell \u001b[1;32mIn[30], line 11\u001b[0m, in \u001b[0;36mtrain\u001b[1;34m(model, train_loader, optimizer)\u001b[0m\n\u001b[0;32m      8\u001b[0m K \u001b[38;5;241m=\u001b[39m data\u001b[38;5;241m.\u001b[39mx\u001b[38;5;241m.\u001b[39mshape[\u001b[38;5;241m0\u001b[39m] \u001b[38;5;241m/\u001b[39m\u001b[38;5;241m/\u001b[39m M \u001b[38;5;241m/\u001b[39m\u001b[38;5;241m/\u001b[39m bs\n\u001b[0;32m      9\u001b[0m optimizer\u001b[38;5;241m.\u001b[39mzero_grad()\n\u001b[1;32m---> 11\u001b[0m output \u001b[38;5;241m=\u001b[39m \u001b[43mmodel\u001b[49m\u001b[43m(\u001b[49m\u001b[43mdata\u001b[49m\u001b[38;5;241;43m.\u001b[39;49m\u001b[43mx\u001b[49m\u001b[43m,\u001b[49m\u001b[43m \u001b[49m\u001b[43mdata\u001b[49m\u001b[38;5;241;43m.\u001b[39;49m\u001b[43medge_attr\u001b[49m\u001b[43m,\u001b[49m\u001b[43m \u001b[49m\u001b[43mdata\u001b[49m\u001b[38;5;241;43m.\u001b[39;49m\u001b[43medge_index\u001b[49m\u001b[43m,\u001b[49m\u001b[43m \u001b[49m\u001b[43mdata\u001b[49m\u001b[38;5;241;43m.\u001b[39;49m\u001b[43mbatch\u001b[49m\u001b[43m)\u001b[49m \u001b[38;5;66;03m# .reshape(bs, -1)\u001b[39;00m\n\u001b[0;32m     12\u001b[0m \u001b[38;5;66;03m# output = output.reshape(bs,-1)\u001b[39;00m\n\u001b[0;32m     13\u001b[0m power \u001b[38;5;241m=\u001b[39m output\u001b[38;5;241m.\u001b[39mreshape(bs, M, K)\n",
            "File \u001b[1;32mc:\\Users\\wine\\anaconda3\\envs\\QGNN\\lib\\site-packages\\torch\\nn\\modules\\module.py:1751\u001b[0m, in \u001b[0;36mModule._wrapped_call_impl\u001b[1;34m(self, *args, **kwargs)\u001b[0m\n\u001b[0;32m   1749\u001b[0m     \u001b[38;5;28;01mreturn\u001b[39;00m \u001b[38;5;28mself\u001b[39m\u001b[38;5;241m.\u001b[39m_compiled_call_impl(\u001b[38;5;241m*\u001b[39margs, \u001b[38;5;241m*\u001b[39m\u001b[38;5;241m*\u001b[39mkwargs)  \u001b[38;5;66;03m# type: ignore[misc]\u001b[39;00m\n\u001b[0;32m   1750\u001b[0m \u001b[38;5;28;01melse\u001b[39;00m:\n\u001b[1;32m-> 1751\u001b[0m     \u001b[38;5;28;01mreturn\u001b[39;00m \u001b[38;5;28mself\u001b[39m\u001b[38;5;241m.\u001b[39m_call_impl(\u001b[38;5;241m*\u001b[39margs, \u001b[38;5;241m*\u001b[39m\u001b[38;5;241m*\u001b[39mkwargs)\n",
            "File \u001b[1;32mc:\\Users\\wine\\anaconda3\\envs\\QGNN\\lib\\site-packages\\torch\\nn\\modules\\module.py:1762\u001b[0m, in \u001b[0;36mModule._call_impl\u001b[1;34m(self, *args, **kwargs)\u001b[0m\n\u001b[0;32m   1757\u001b[0m \u001b[38;5;66;03m# If we don't have any hooks, we want to skip the rest of the logic in\u001b[39;00m\n\u001b[0;32m   1758\u001b[0m \u001b[38;5;66;03m# this function, and just call forward.\u001b[39;00m\n\u001b[0;32m   1759\u001b[0m \u001b[38;5;28;01mif\u001b[39;00m \u001b[38;5;129;01mnot\u001b[39;00m (\u001b[38;5;28mself\u001b[39m\u001b[38;5;241m.\u001b[39m_backward_hooks \u001b[38;5;129;01mor\u001b[39;00m \u001b[38;5;28mself\u001b[39m\u001b[38;5;241m.\u001b[39m_backward_pre_hooks \u001b[38;5;129;01mor\u001b[39;00m \u001b[38;5;28mself\u001b[39m\u001b[38;5;241m.\u001b[39m_forward_hooks \u001b[38;5;129;01mor\u001b[39;00m \u001b[38;5;28mself\u001b[39m\u001b[38;5;241m.\u001b[39m_forward_pre_hooks\n\u001b[0;32m   1760\u001b[0m         \u001b[38;5;129;01mor\u001b[39;00m _global_backward_pre_hooks \u001b[38;5;129;01mor\u001b[39;00m _global_backward_hooks\n\u001b[0;32m   1761\u001b[0m         \u001b[38;5;129;01mor\u001b[39;00m _global_forward_hooks \u001b[38;5;129;01mor\u001b[39;00m _global_forward_pre_hooks):\n\u001b[1;32m-> 1762\u001b[0m     \u001b[38;5;28;01mreturn\u001b[39;00m forward_call(\u001b[38;5;241m*\u001b[39margs, \u001b[38;5;241m*\u001b[39m\u001b[38;5;241m*\u001b[39mkwargs)\n\u001b[0;32m   1764\u001b[0m result \u001b[38;5;241m=\u001b[39m \u001b[38;5;28;01mNone\u001b[39;00m\n\u001b[0;32m   1765\u001b[0m called_always_called_hooks \u001b[38;5;241m=\u001b[39m \u001b[38;5;28mset\u001b[39m()\n",
            "Cell \u001b[1;32mIn[64], line 108\u001b[0m, in \u001b[0;36mQGNN.forward\u001b[1;34m(self, node_feat, edge_attr, edge_index, batch)\u001b[0m\n\u001b[0;32m    105\u001b[0m e_feat    \u001b[38;5;241m=\u001b[39m edge_features[edge_idxs]\n\u001b[0;32m    106\u001b[0m inputs \u001b[38;5;241m=\u001b[39m torch\u001b[38;5;241m.\u001b[39mcat([e_feat, n_feat], dim\u001b[38;5;241m=\u001b[39m\u001b[38;5;241m0\u001b[39m)\n\u001b[1;32m--> 108\u001b[0m all_msg \u001b[38;5;241m=\u001b[39m \u001b[43mq_layer\u001b[49m\u001b[43m(\u001b[49m\u001b[43minputs\u001b[49m\u001b[38;5;241;43m.\u001b[39;49m\u001b[43mflatten\u001b[49m\u001b[43m(\u001b[49m\u001b[43m)\u001b[49m\u001b[43m)\u001b[49m\n\u001b[0;32m    109\u001b[0m aggr \u001b[38;5;241m=\u001b[39m all_msg\n\u001b[0;32m    110\u001b[0m update_vec \u001b[38;5;241m=\u001b[39m upd_layer(torch\u001b[38;5;241m.\u001b[39mcat([node_features[center], aggr], dim\u001b[38;5;241m=\u001b[39m\u001b[38;5;241m0\u001b[39m))\n",
            "File \u001b[1;32mc:\\Users\\wine\\anaconda3\\envs\\QGNN\\lib\\site-packages\\torch\\nn\\modules\\module.py:1751\u001b[0m, in \u001b[0;36mModule._wrapped_call_impl\u001b[1;34m(self, *args, **kwargs)\u001b[0m\n\u001b[0;32m   1749\u001b[0m     \u001b[38;5;28;01mreturn\u001b[39;00m \u001b[38;5;28mself\u001b[39m\u001b[38;5;241m.\u001b[39m_compiled_call_impl(\u001b[38;5;241m*\u001b[39margs, \u001b[38;5;241m*\u001b[39m\u001b[38;5;241m*\u001b[39mkwargs)  \u001b[38;5;66;03m# type: ignore[misc]\u001b[39;00m\n\u001b[0;32m   1750\u001b[0m \u001b[38;5;28;01melse\u001b[39;00m:\n\u001b[1;32m-> 1751\u001b[0m     \u001b[38;5;28;01mreturn\u001b[39;00m \u001b[38;5;28mself\u001b[39m\u001b[38;5;241m.\u001b[39m_call_impl(\u001b[38;5;241m*\u001b[39margs, \u001b[38;5;241m*\u001b[39m\u001b[38;5;241m*\u001b[39mkwargs)\n",
            "File \u001b[1;32mc:\\Users\\wine\\anaconda3\\envs\\QGNN\\lib\\site-packages\\torch\\nn\\modules\\module.py:1762\u001b[0m, in \u001b[0;36mModule._call_impl\u001b[1;34m(self, *args, **kwargs)\u001b[0m\n\u001b[0;32m   1757\u001b[0m \u001b[38;5;66;03m# If we don't have any hooks, we want to skip the rest of the logic in\u001b[39;00m\n\u001b[0;32m   1758\u001b[0m \u001b[38;5;66;03m# this function, and just call forward.\u001b[39;00m\n\u001b[0;32m   1759\u001b[0m \u001b[38;5;28;01mif\u001b[39;00m \u001b[38;5;129;01mnot\u001b[39;00m (\u001b[38;5;28mself\u001b[39m\u001b[38;5;241m.\u001b[39m_backward_hooks \u001b[38;5;129;01mor\u001b[39;00m \u001b[38;5;28mself\u001b[39m\u001b[38;5;241m.\u001b[39m_backward_pre_hooks \u001b[38;5;129;01mor\u001b[39;00m \u001b[38;5;28mself\u001b[39m\u001b[38;5;241m.\u001b[39m_forward_hooks \u001b[38;5;129;01mor\u001b[39;00m \u001b[38;5;28mself\u001b[39m\u001b[38;5;241m.\u001b[39m_forward_pre_hooks\n\u001b[0;32m   1760\u001b[0m         \u001b[38;5;129;01mor\u001b[39;00m _global_backward_pre_hooks \u001b[38;5;129;01mor\u001b[39;00m _global_backward_hooks\n\u001b[0;32m   1761\u001b[0m         \u001b[38;5;129;01mor\u001b[39;00m _global_forward_hooks \u001b[38;5;129;01mor\u001b[39;00m _global_forward_pre_hooks):\n\u001b[1;32m-> 1762\u001b[0m     \u001b[38;5;28;01mreturn\u001b[39;00m forward_call(\u001b[38;5;241m*\u001b[39margs, \u001b[38;5;241m*\u001b[39m\u001b[38;5;241m*\u001b[39mkwargs)\n\u001b[0;32m   1764\u001b[0m result \u001b[38;5;241m=\u001b[39m \u001b[38;5;28;01mNone\u001b[39;00m\n\u001b[0;32m   1765\u001b[0m called_always_called_hooks \u001b[38;5;241m=\u001b[39m \u001b[38;5;28mset\u001b[39m()\n",
            "File \u001b[1;32mc:\\Users\\wine\\anaconda3\\envs\\QGNN\\lib\\site-packages\\pennylane\\qnn\\torch.py:404\u001b[0m, in \u001b[0;36mTorchLayer.forward\u001b[1;34m(self, inputs)\u001b[0m\n\u001b[0;32m    401\u001b[0m     inputs \u001b[38;5;241m=\u001b[39m torch\u001b[38;5;241m.\u001b[39mreshape(inputs, (\u001b[38;5;241m-\u001b[39m\u001b[38;5;241m1\u001b[39m, inputs\u001b[38;5;241m.\u001b[39mshape[\u001b[38;5;241m-\u001b[39m\u001b[38;5;241m1\u001b[39m]))\n\u001b[0;32m    403\u001b[0m \u001b[38;5;66;03m# calculate the forward pass as usual\u001b[39;00m\n\u001b[1;32m--> 404\u001b[0m results \u001b[38;5;241m=\u001b[39m \u001b[38;5;28;43mself\u001b[39;49m\u001b[38;5;241;43m.\u001b[39;49m\u001b[43m_evaluate_qnode\u001b[49m\u001b[43m(\u001b[49m\u001b[43minputs\u001b[49m\u001b[43m)\u001b[49m\n\u001b[0;32m    406\u001b[0m \u001b[38;5;28;01mif\u001b[39;00m \u001b[38;5;28misinstance\u001b[39m(results, \u001b[38;5;28mtuple\u001b[39m):\n\u001b[0;32m    407\u001b[0m     \u001b[38;5;28;01mif\u001b[39;00m has_batch_dim:\n",
            "File \u001b[1;32mc:\\Users\\wine\\anaconda3\\envs\\QGNN\\lib\\site-packages\\pennylane\\qnn\\torch.py:430\u001b[0m, in \u001b[0;36mTorchLayer._evaluate_qnode\u001b[1;34m(self, x)\u001b[0m\n\u001b[0;32m    418\u001b[0m \u001b[38;5;250m\u001b[39m\u001b[38;5;124;03m\"\"\"Evaluates the QNode for a single input datapoint.\u001b[39;00m\n\u001b[0;32m    419\u001b[0m \n\u001b[0;32m    420\u001b[0m \u001b[38;5;124;03mArgs:\u001b[39;00m\n\u001b[1;32m   (...)\u001b[0m\n\u001b[0;32m    424\u001b[0m \u001b[38;5;124;03m    tensor: output datapoint\u001b[39;00m\n\u001b[0;32m    425\u001b[0m \u001b[38;5;124;03m\"\"\"\u001b[39;00m\n\u001b[0;32m    426\u001b[0m kwargs \u001b[38;5;241m=\u001b[39m {\n\u001b[0;32m    427\u001b[0m     \u001b[38;5;241m*\u001b[39m\u001b[38;5;241m*\u001b[39m{\u001b[38;5;28mself\u001b[39m\u001b[38;5;241m.\u001b[39minput_arg: x},\n\u001b[0;32m    428\u001b[0m     \u001b[38;5;241m*\u001b[39m\u001b[38;5;241m*\u001b[39m{arg: weight\u001b[38;5;241m.\u001b[39mto(x) \u001b[38;5;28;01mfor\u001b[39;00m arg, weight \u001b[38;5;129;01min\u001b[39;00m \u001b[38;5;28mself\u001b[39m\u001b[38;5;241m.\u001b[39mqnode_weights\u001b[38;5;241m.\u001b[39mitems()},\n\u001b[0;32m    429\u001b[0m }\n\u001b[1;32m--> 430\u001b[0m res \u001b[38;5;241m=\u001b[39m \u001b[38;5;28mself\u001b[39m\u001b[38;5;241m.\u001b[39mqnode(\u001b[38;5;241m*\u001b[39m\u001b[38;5;241m*\u001b[39mkwargs)\n\u001b[0;32m    432\u001b[0m \u001b[38;5;28;01mif\u001b[39;00m \u001b[38;5;28misinstance\u001b[39m(res, torch\u001b[38;5;241m.\u001b[39mTensor):\n\u001b[0;32m    433\u001b[0m     \u001b[38;5;28;01mreturn\u001b[39;00m res\u001b[38;5;241m.\u001b[39mtype(x\u001b[38;5;241m.\u001b[39mdtype)\n",
            "File \u001b[1;32mc:\\Users\\wine\\anaconda3\\envs\\QGNN\\lib\\site-packages\\pennylane\\workflow\\qnode.py:1020\u001b[0m, in \u001b[0;36mQNode.__call__\u001b[1;34m(self, *args, **kwargs)\u001b[0m\n\u001b[0;32m   1018\u001b[0m \u001b[38;5;28;01mif\u001b[39;00m qml\u001b[38;5;241m.\u001b[39mcapture\u001b[38;5;241m.\u001b[39menabled():\n\u001b[0;32m   1019\u001b[0m     \u001b[38;5;28;01mreturn\u001b[39;00m qml\u001b[38;5;241m.\u001b[39mcapture\u001b[38;5;241m.\u001b[39mqnode_call(\u001b[38;5;28mself\u001b[39m, \u001b[38;5;241m*\u001b[39margs, \u001b[38;5;241m*\u001b[39m\u001b[38;5;241m*\u001b[39mkwargs)\n\u001b[1;32m-> 1020\u001b[0m \u001b[38;5;28;01mreturn\u001b[39;00m \u001b[38;5;28mself\u001b[39m\u001b[38;5;241m.\u001b[39m_impl_call(\u001b[38;5;241m*\u001b[39margs, \u001b[38;5;241m*\u001b[39m\u001b[38;5;241m*\u001b[39mkwargs)\n",
            "File \u001b[1;32mc:\\Users\\wine\\anaconda3\\envs\\QGNN\\lib\\site-packages\\pennylane\\workflow\\qnode.py:1008\u001b[0m, in \u001b[0;36mQNode._impl_call\u001b[1;34m(self, *args, **kwargs)\u001b[0m\n\u001b[0;32m   1005\u001b[0m \u001b[38;5;28mself\u001b[39m\u001b[38;5;241m.\u001b[39m_update_gradient_fn(shots\u001b[38;5;241m=\u001b[39moverride_shots, tape\u001b[38;5;241m=\u001b[39m\u001b[38;5;28mself\u001b[39m\u001b[38;5;241m.\u001b[39m_tape)\n\u001b[0;32m   1007\u001b[0m \u001b[38;5;28;01mtry\u001b[39;00m:\n\u001b[1;32m-> 1008\u001b[0m     res \u001b[38;5;241m=\u001b[39m \u001b[38;5;28;43mself\u001b[39;49m\u001b[38;5;241;43m.\u001b[39;49m\u001b[43m_execution_component\u001b[49m\u001b[43m(\u001b[49m\u001b[43margs\u001b[49m\u001b[43m,\u001b[49m\u001b[43m \u001b[49m\u001b[43mkwargs\u001b[49m\u001b[43m,\u001b[49m\u001b[43m \u001b[49m\u001b[43moverride_shots\u001b[49m\u001b[38;5;241;43m=\u001b[39;49m\u001b[43moverride_shots\u001b[49m\u001b[43m)\u001b[49m\n\u001b[0;32m   1009\u001b[0m \u001b[38;5;28;01mfinally\u001b[39;00m:\n\u001b[0;32m   1010\u001b[0m     \u001b[38;5;28;01mif\u001b[39;00m old_interface \u001b[38;5;241m==\u001b[39m \u001b[38;5;124m\"\u001b[39m\u001b[38;5;124mauto\u001b[39m\u001b[38;5;124m\"\u001b[39m:\n",
            "File \u001b[1;32mc:\\Users\\wine\\anaconda3\\envs\\QGNN\\lib\\site-packages\\pennylane\\workflow\\qnode.py:957\u001b[0m, in \u001b[0;36mQNode._execution_component\u001b[1;34m(self, args, kwargs, override_shots)\u001b[0m\n\u001b[0;32m    951\u001b[0m     warnings\u001b[38;5;241m.\u001b[39mfilterwarnings(\n\u001b[0;32m    952\u001b[0m         action\u001b[38;5;241m=\u001b[39m\u001b[38;5;124m\"\u001b[39m\u001b[38;5;124mignore\u001b[39m\u001b[38;5;124m\"\u001b[39m,\n\u001b[0;32m    953\u001b[0m         message\u001b[38;5;241m=\u001b[39m\u001b[38;5;124mr\u001b[39m\u001b[38;5;124m\"\u001b[39m\u001b[38;5;124m.*argument is deprecated and will be removed in version 0.39.*\u001b[39m\u001b[38;5;124m\"\u001b[39m,\n\u001b[0;32m    954\u001b[0m         category\u001b[38;5;241m=\u001b[39mqml\u001b[38;5;241m.\u001b[39mPennyLaneDeprecationWarning,\n\u001b[0;32m    955\u001b[0m     )\n\u001b[0;32m    956\u001b[0m     \u001b[38;5;66;03m# pylint: disable=unexpected-keyword-arg\u001b[39;00m\n\u001b[1;32m--> 957\u001b[0m     res \u001b[38;5;241m=\u001b[39m qml\u001b[38;5;241m.\u001b[39mexecute(\n\u001b[0;32m    958\u001b[0m         (\u001b[38;5;28mself\u001b[39m\u001b[38;5;241m.\u001b[39m_tape,),\n\u001b[0;32m    959\u001b[0m         device\u001b[38;5;241m=\u001b[39m\u001b[38;5;28mself\u001b[39m\u001b[38;5;241m.\u001b[39mdevice,\n\u001b[0;32m    960\u001b[0m         gradient_fn\u001b[38;5;241m=\u001b[39m\u001b[38;5;28mself\u001b[39m\u001b[38;5;241m.\u001b[39mgradient_fn,\n\u001b[0;32m    961\u001b[0m         interface\u001b[38;5;241m=\u001b[39m\u001b[38;5;28mself\u001b[39m\u001b[38;5;241m.\u001b[39minterface,\n\u001b[0;32m    962\u001b[0m         transform_program\u001b[38;5;241m=\u001b[39mfull_transform_program,\n\u001b[0;32m    963\u001b[0m         inner_transform\u001b[38;5;241m=\u001b[39minner_transform_program,\n\u001b[0;32m    964\u001b[0m         config\u001b[38;5;241m=\u001b[39mconfig,\n\u001b[0;32m    965\u001b[0m         gradient_kwargs\u001b[38;5;241m=\u001b[39m\u001b[38;5;28mself\u001b[39m\u001b[38;5;241m.\u001b[39mgradient_kwargs,\n\u001b[0;32m    966\u001b[0m         override_shots\u001b[38;5;241m=\u001b[39moverride_shots,\n\u001b[0;32m    967\u001b[0m         \u001b[38;5;241m*\u001b[39m\u001b[38;5;241m*\u001b[39mexecute_kwargs,\n\u001b[0;32m    968\u001b[0m     )\n\u001b[0;32m    969\u001b[0m res \u001b[38;5;241m=\u001b[39m res[\u001b[38;5;241m0\u001b[39m]\n\u001b[0;32m    971\u001b[0m \u001b[38;5;66;03m# convert result to the interface in case the qfunc has no parameters\u001b[39;00m\n",
            "File \u001b[1;32mc:\\Users\\wine\\anaconda3\\envs\\QGNN\\lib\\site-packages\\pennylane\\workflow\\execution.py:660\u001b[0m, in \u001b[0;36mexecute\u001b[1;34m(tapes, device, gradient_fn, interface, transform_program, inner_transform, config, grad_on_execution, gradient_kwargs, cache, cachesize, max_diff, override_shots, expand_fn, max_expansion, device_batch_transform, device_vjp, mcm_config)\u001b[0m\n\u001b[0;32m    658\u001b[0m \u001b[38;5;66;03m# Exiting early if we do not need to deal with an interface boundary\u001b[39;00m\n\u001b[0;32m    659\u001b[0m \u001b[38;5;28;01mif\u001b[39;00m no_interface_boundary_required:\n\u001b[1;32m--> 660\u001b[0m     results \u001b[38;5;241m=\u001b[39m \u001b[43minner_execute\u001b[49m\u001b[43m(\u001b[49m\u001b[43mtapes\u001b[49m\u001b[43m)\u001b[49m\n\u001b[0;32m    661\u001b[0m     \u001b[38;5;28;01mreturn\u001b[39;00m post_processing(results)\n\u001b[0;32m    663\u001b[0m \u001b[38;5;28;01mif\u001b[39;00m (\n\u001b[0;32m    664\u001b[0m     device_vjp\n\u001b[0;32m    665\u001b[0m     \u001b[38;5;129;01mand\u001b[39;00m \u001b[38;5;28mgetattr\u001b[39m(device, \u001b[38;5;124m\"\u001b[39m\u001b[38;5;124mshort_name\u001b[39m\u001b[38;5;124m\"\u001b[39m, \u001b[38;5;124m\"\u001b[39m\u001b[38;5;124m\"\u001b[39m) \u001b[38;5;129;01min\u001b[39;00m (\u001b[38;5;124m\"\u001b[39m\u001b[38;5;124mlightning.gpu\u001b[39m\u001b[38;5;124m\"\u001b[39m, \u001b[38;5;124m\"\u001b[39m\u001b[38;5;124mlightning.kokkos\u001b[39m\u001b[38;5;124m\"\u001b[39m)\n\u001b[0;32m    666\u001b[0m     \u001b[38;5;129;01mand\u001b[39;00m interface \u001b[38;5;129;01min\u001b[39;00m jpc_interfaces\n\u001b[0;32m    667\u001b[0m ):  \u001b[38;5;66;03m# pragma: no cover\u001b[39;00m\n",
            "File \u001b[1;32mc:\\Users\\wine\\anaconda3\\envs\\QGNN\\lib\\site-packages\\pennylane\\workflow\\execution.py:212\u001b[0m, in \u001b[0;36m_make_inner_execute.<locals>.inner_execute\u001b[1;34m(tapes, **_)\u001b[0m\n\u001b[0;32m    209\u001b[0m transformed_tapes, transform_post_processing \u001b[38;5;241m=\u001b[39m transform_program(tapes)\n\u001b[0;32m    211\u001b[0m \u001b[38;5;28;01mif\u001b[39;00m transformed_tapes:\n\u001b[1;32m--> 212\u001b[0m     results \u001b[38;5;241m=\u001b[39m \u001b[43mdevice\u001b[49m\u001b[38;5;241;43m.\u001b[39;49m\u001b[43mexecute\u001b[49m\u001b[43m(\u001b[49m\u001b[43mtransformed_tapes\u001b[49m\u001b[43m,\u001b[49m\u001b[43m \u001b[49m\u001b[43mexecution_config\u001b[49m\u001b[38;5;241;43m=\u001b[39;49m\u001b[43mexecution_config\u001b[49m\u001b[43m)\u001b[49m\n\u001b[0;32m    213\u001b[0m \u001b[38;5;28;01melse\u001b[39;00m:\n\u001b[0;32m    214\u001b[0m     results \u001b[38;5;241m=\u001b[39m ()\n",
            "File \u001b[1;32mc:\\Users\\wine\\anaconda3\\envs\\QGNN\\lib\\site-packages\\pennylane\\devices\\modifiers\\simulator_tracking.py:30\u001b[0m, in \u001b[0;36m_track_execute.<locals>.execute\u001b[1;34m(self, circuits, execution_config)\u001b[0m\n\u001b[0;32m     28\u001b[0m \u001b[38;5;129m@wraps\u001b[39m(untracked_execute)\n\u001b[0;32m     29\u001b[0m \u001b[38;5;28;01mdef\u001b[39;00m\u001b[38;5;250m \u001b[39m\u001b[38;5;21mexecute\u001b[39m(\u001b[38;5;28mself\u001b[39m, circuits, execution_config\u001b[38;5;241m=\u001b[39mDefaultExecutionConfig):\n\u001b[1;32m---> 30\u001b[0m     results \u001b[38;5;241m=\u001b[39m \u001b[43muntracked_execute\u001b[49m\u001b[43m(\u001b[49m\u001b[38;5;28;43mself\u001b[39;49m\u001b[43m,\u001b[49m\u001b[43m \u001b[49m\u001b[43mcircuits\u001b[49m\u001b[43m,\u001b[49m\u001b[43m \u001b[49m\u001b[43mexecution_config\u001b[49m\u001b[43m)\u001b[49m\n\u001b[0;32m     31\u001b[0m     \u001b[38;5;28;01mif\u001b[39;00m \u001b[38;5;28misinstance\u001b[39m(circuits, QuantumScript):\n\u001b[0;32m     32\u001b[0m         batch \u001b[38;5;241m=\u001b[39m (circuits,)\n",
            "File \u001b[1;32mc:\\Users\\wine\\anaconda3\\envs\\QGNN\\lib\\site-packages\\pennylane\\devices\\modifiers\\single_tape_support.py:32\u001b[0m, in \u001b[0;36m_make_execute.<locals>.execute\u001b[1;34m(self, circuits, execution_config)\u001b[0m\n\u001b[0;32m     30\u001b[0m     is_single_circuit \u001b[38;5;241m=\u001b[39m \u001b[38;5;28;01mTrue\u001b[39;00m\n\u001b[0;32m     31\u001b[0m     circuits \u001b[38;5;241m=\u001b[39m (circuits,)\n\u001b[1;32m---> 32\u001b[0m results \u001b[38;5;241m=\u001b[39m \u001b[43mbatch_execute\u001b[49m\u001b[43m(\u001b[49m\u001b[38;5;28;43mself\u001b[39;49m\u001b[43m,\u001b[49m\u001b[43m \u001b[49m\u001b[43mcircuits\u001b[49m\u001b[43m,\u001b[49m\u001b[43m \u001b[49m\u001b[43mexecution_config\u001b[49m\u001b[43m)\u001b[49m\n\u001b[0;32m     33\u001b[0m \u001b[38;5;28;01mreturn\u001b[39;00m results[\u001b[38;5;241m0\u001b[39m] \u001b[38;5;28;01mif\u001b[39;00m is_single_circuit \u001b[38;5;28;01melse\u001b[39;00m results\n",
            "File \u001b[1;32mc:\\Users\\wine\\anaconda3\\envs\\QGNN\\lib\\site-packages\\pennylane\\logging\\decorators.py:61\u001b[0m, in \u001b[0;36mlog_string_debug_func.<locals>.wrapper_entry\u001b[1;34m(*args, **kwargs)\u001b[0m\n\u001b[0;32m     54\u001b[0m     s_caller \u001b[38;5;241m=\u001b[39m \u001b[38;5;124m\"\u001b[39m\u001b[38;5;124m::L\u001b[39m\u001b[38;5;124m\"\u001b[39m\u001b[38;5;241m.\u001b[39mjoin(\n\u001b[0;32m     55\u001b[0m         [\u001b[38;5;28mstr\u001b[39m(i) \u001b[38;5;28;01mfor\u001b[39;00m i \u001b[38;5;129;01min\u001b[39;00m inspect\u001b[38;5;241m.\u001b[39mgetouterframes(inspect\u001b[38;5;241m.\u001b[39mcurrentframe(), \u001b[38;5;241m2\u001b[39m)[\u001b[38;5;241m1\u001b[39m][\u001b[38;5;241m1\u001b[39m:\u001b[38;5;241m3\u001b[39m]]\n\u001b[0;32m     56\u001b[0m     )\n\u001b[0;32m     57\u001b[0m     lgr\u001b[38;5;241m.\u001b[39mdebug(\n\u001b[0;32m     58\u001b[0m         \u001b[38;5;124mf\u001b[39m\u001b[38;5;124m\"\u001b[39m\u001b[38;5;124mCalling \u001b[39m\u001b[38;5;132;01m{\u001b[39;00mf_string\u001b[38;5;132;01m}\u001b[39;00m\u001b[38;5;124m from \u001b[39m\u001b[38;5;132;01m{\u001b[39;00ms_caller\u001b[38;5;132;01m}\u001b[39;00m\u001b[38;5;124m\"\u001b[39m,\n\u001b[0;32m     59\u001b[0m         \u001b[38;5;241m*\u001b[39m\u001b[38;5;241m*\u001b[39m_debug_log_kwargs,\n\u001b[0;32m     60\u001b[0m     )\n\u001b[1;32m---> 61\u001b[0m \u001b[38;5;28;01mreturn\u001b[39;00m func(\u001b[38;5;241m*\u001b[39margs, \u001b[38;5;241m*\u001b[39m\u001b[38;5;241m*\u001b[39mkwargs)\n",
            "File \u001b[1;32mc:\\Users\\wine\\anaconda3\\envs\\QGNN\\lib\\site-packages\\pennylane\\devices\\default_qubit.py:630\u001b[0m, in \u001b[0;36mDefaultQubit.execute\u001b[1;34m(self, circuits, execution_config)\u001b[0m\n\u001b[0;32m    627\u001b[0m prng_keys \u001b[38;5;241m=\u001b[39m [\u001b[38;5;28mself\u001b[39m\u001b[38;5;241m.\u001b[39mget_prng_keys()[\u001b[38;5;241m0\u001b[39m] \u001b[38;5;28;01mfor\u001b[39;00m _ \u001b[38;5;129;01min\u001b[39;00m \u001b[38;5;28mrange\u001b[39m(\u001b[38;5;28mlen\u001b[39m(circuits))]\n\u001b[0;32m    629\u001b[0m \u001b[38;5;28;01mif\u001b[39;00m max_workers \u001b[38;5;129;01mis\u001b[39;00m \u001b[38;5;28;01mNone\u001b[39;00m:\n\u001b[1;32m--> 630\u001b[0m     \u001b[38;5;28;01mreturn\u001b[39;00m \u001b[38;5;28;43mtuple\u001b[39;49m\u001b[43m(\u001b[49m\n\u001b[0;32m    631\u001b[0m \u001b[43m        \u001b[49m\u001b[43m_simulate_wrapper\u001b[49m\u001b[43m(\u001b[49m\n\u001b[0;32m    632\u001b[0m \u001b[43m            \u001b[49m\u001b[43mc\u001b[49m\u001b[43m,\u001b[49m\n\u001b[0;32m    633\u001b[0m \u001b[43m            \u001b[49m\u001b[43m{\u001b[49m\n\u001b[0;32m    634\u001b[0m \u001b[43m                \u001b[49m\u001b[38;5;124;43m\"\u001b[39;49m\u001b[38;5;124;43mrng\u001b[39;49m\u001b[38;5;124;43m\"\u001b[39;49m\u001b[43m:\u001b[49m\u001b[43m \u001b[49m\u001b[38;5;28;43mself\u001b[39;49m\u001b[38;5;241;43m.\u001b[39;49m\u001b[43m_rng\u001b[49m\u001b[43m,\u001b[49m\n\u001b[0;32m    635\u001b[0m \u001b[43m                \u001b[49m\u001b[38;5;124;43m\"\u001b[39;49m\u001b[38;5;124;43mdebugger\u001b[39;49m\u001b[38;5;124;43m\"\u001b[39;49m\u001b[43m:\u001b[49m\u001b[43m \u001b[49m\u001b[38;5;28;43mself\u001b[39;49m\u001b[38;5;241;43m.\u001b[39;49m\u001b[43m_debugger\u001b[49m\u001b[43m,\u001b[49m\n\u001b[0;32m    636\u001b[0m \u001b[43m                \u001b[49m\u001b[38;5;124;43m\"\u001b[39;49m\u001b[38;5;124;43minterface\u001b[39;49m\u001b[38;5;124;43m\"\u001b[39;49m\u001b[43m:\u001b[49m\u001b[43m \u001b[49m\u001b[43minterface\u001b[49m\u001b[43m,\u001b[49m\n\u001b[0;32m    637\u001b[0m \u001b[43m                \u001b[49m\u001b[38;5;124;43m\"\u001b[39;49m\u001b[38;5;124;43mstate_cache\u001b[39;49m\u001b[38;5;124;43m\"\u001b[39;49m\u001b[43m:\u001b[49m\u001b[43m \u001b[49m\u001b[38;5;28;43mself\u001b[39;49m\u001b[38;5;241;43m.\u001b[39;49m\u001b[43m_state_cache\u001b[49m\u001b[43m,\u001b[49m\n\u001b[0;32m    638\u001b[0m \u001b[43m                \u001b[49m\u001b[38;5;124;43m\"\u001b[39;49m\u001b[38;5;124;43mprng_key\u001b[39;49m\u001b[38;5;124;43m\"\u001b[39;49m\u001b[43m:\u001b[49m\u001b[43m \u001b[49m\u001b[43m_key\u001b[49m\u001b[43m,\u001b[49m\n\u001b[0;32m    639\u001b[0m \u001b[43m                \u001b[49m\u001b[38;5;124;43m\"\u001b[39;49m\u001b[38;5;124;43mmcm_method\u001b[39;49m\u001b[38;5;124;43m\"\u001b[39;49m\u001b[43m:\u001b[49m\u001b[43m \u001b[49m\u001b[43mexecution_config\u001b[49m\u001b[38;5;241;43m.\u001b[39;49m\u001b[43mmcm_config\u001b[49m\u001b[38;5;241;43m.\u001b[39;49m\u001b[43mmcm_method\u001b[49m\u001b[43m,\u001b[49m\n\u001b[0;32m    640\u001b[0m \u001b[43m                \u001b[49m\u001b[38;5;124;43m\"\u001b[39;49m\u001b[38;5;124;43mpostselect_mode\u001b[39;49m\u001b[38;5;124;43m\"\u001b[39;49m\u001b[43m:\u001b[49m\u001b[43m \u001b[49m\u001b[43mexecution_config\u001b[49m\u001b[38;5;241;43m.\u001b[39;49m\u001b[43mmcm_config\u001b[49m\u001b[38;5;241;43m.\u001b[39;49m\u001b[43mpostselect_mode\u001b[49m\u001b[43m,\u001b[49m\n\u001b[0;32m    641\u001b[0m \u001b[43m            \u001b[49m\u001b[43m}\u001b[49m\u001b[43m,\u001b[49m\n\u001b[0;32m    642\u001b[0m \u001b[43m        \u001b[49m\u001b[43m)\u001b[49m\n\u001b[0;32m    643\u001b[0m \u001b[43m        \u001b[49m\u001b[38;5;28;43;01mfor\u001b[39;49;00m\u001b[43m \u001b[49m\u001b[43mc\u001b[49m\u001b[43m,\u001b[49m\u001b[43m \u001b[49m\u001b[43m_key\u001b[49m\u001b[43m \u001b[49m\u001b[38;5;129;43;01min\u001b[39;49;00m\u001b[43m \u001b[49m\u001b[38;5;28;43mzip\u001b[39;49m\u001b[43m(\u001b[49m\u001b[43mcircuits\u001b[49m\u001b[43m,\u001b[49m\u001b[43m \u001b[49m\u001b[43mprng_keys\u001b[49m\u001b[43m)\u001b[49m\n\u001b[0;32m    644\u001b[0m \u001b[43m    \u001b[49m\u001b[43m)\u001b[49m\n\u001b[0;32m    646\u001b[0m vanilla_circuits \u001b[38;5;241m=\u001b[39m convert_to_numpy_parameters(circuits)[\u001b[38;5;241m0\u001b[39m]\n\u001b[0;32m    647\u001b[0m seeds \u001b[38;5;241m=\u001b[39m \u001b[38;5;28mself\u001b[39m\u001b[38;5;241m.\u001b[39m_rng\u001b[38;5;241m.\u001b[39mintegers(\u001b[38;5;241m2\u001b[39m\u001b[38;5;241m*\u001b[39m\u001b[38;5;241m*\u001b[39m\u001b[38;5;241m31\u001b[39m \u001b[38;5;241m-\u001b[39m \u001b[38;5;241m1\u001b[39m, size\u001b[38;5;241m=\u001b[39m\u001b[38;5;28mlen\u001b[39m(vanilla_circuits))\n",
            "File \u001b[1;32mc:\\Users\\wine\\anaconda3\\envs\\QGNN\\lib\\site-packages\\pennylane\\devices\\default_qubit.py:631\u001b[0m, in \u001b[0;36m<genexpr>\u001b[1;34m(.0)\u001b[0m\n\u001b[0;32m    627\u001b[0m prng_keys \u001b[38;5;241m=\u001b[39m [\u001b[38;5;28mself\u001b[39m\u001b[38;5;241m.\u001b[39mget_prng_keys()[\u001b[38;5;241m0\u001b[39m] \u001b[38;5;28;01mfor\u001b[39;00m _ \u001b[38;5;129;01min\u001b[39;00m \u001b[38;5;28mrange\u001b[39m(\u001b[38;5;28mlen\u001b[39m(circuits))]\n\u001b[0;32m    629\u001b[0m \u001b[38;5;28;01mif\u001b[39;00m max_workers \u001b[38;5;129;01mis\u001b[39;00m \u001b[38;5;28;01mNone\u001b[39;00m:\n\u001b[0;32m    630\u001b[0m     \u001b[38;5;28;01mreturn\u001b[39;00m \u001b[38;5;28mtuple\u001b[39m(\n\u001b[1;32m--> 631\u001b[0m         \u001b[43m_simulate_wrapper\u001b[49m\u001b[43m(\u001b[49m\n\u001b[0;32m    632\u001b[0m \u001b[43m            \u001b[49m\u001b[43mc\u001b[49m\u001b[43m,\u001b[49m\n\u001b[0;32m    633\u001b[0m \u001b[43m            \u001b[49m\u001b[43m{\u001b[49m\n\u001b[0;32m    634\u001b[0m \u001b[43m                \u001b[49m\u001b[38;5;124;43m\"\u001b[39;49m\u001b[38;5;124;43mrng\u001b[39;49m\u001b[38;5;124;43m\"\u001b[39;49m\u001b[43m:\u001b[49m\u001b[43m \u001b[49m\u001b[38;5;28;43mself\u001b[39;49m\u001b[38;5;241;43m.\u001b[39;49m\u001b[43m_rng\u001b[49m\u001b[43m,\u001b[49m\n\u001b[0;32m    635\u001b[0m \u001b[43m                \u001b[49m\u001b[38;5;124;43m\"\u001b[39;49m\u001b[38;5;124;43mdebugger\u001b[39;49m\u001b[38;5;124;43m\"\u001b[39;49m\u001b[43m:\u001b[49m\u001b[43m \u001b[49m\u001b[38;5;28;43mself\u001b[39;49m\u001b[38;5;241;43m.\u001b[39;49m\u001b[43m_debugger\u001b[49m\u001b[43m,\u001b[49m\n\u001b[0;32m    636\u001b[0m \u001b[43m                \u001b[49m\u001b[38;5;124;43m\"\u001b[39;49m\u001b[38;5;124;43minterface\u001b[39;49m\u001b[38;5;124;43m\"\u001b[39;49m\u001b[43m:\u001b[49m\u001b[43m \u001b[49m\u001b[43minterface\u001b[49m\u001b[43m,\u001b[49m\n\u001b[0;32m    637\u001b[0m \u001b[43m                \u001b[49m\u001b[38;5;124;43m\"\u001b[39;49m\u001b[38;5;124;43mstate_cache\u001b[39;49m\u001b[38;5;124;43m\"\u001b[39;49m\u001b[43m:\u001b[49m\u001b[43m \u001b[49m\u001b[38;5;28;43mself\u001b[39;49m\u001b[38;5;241;43m.\u001b[39;49m\u001b[43m_state_cache\u001b[49m\u001b[43m,\u001b[49m\n\u001b[0;32m    638\u001b[0m \u001b[43m                \u001b[49m\u001b[38;5;124;43m\"\u001b[39;49m\u001b[38;5;124;43mprng_key\u001b[39;49m\u001b[38;5;124;43m\"\u001b[39;49m\u001b[43m:\u001b[49m\u001b[43m \u001b[49m\u001b[43m_key\u001b[49m\u001b[43m,\u001b[49m\n\u001b[0;32m    639\u001b[0m \u001b[43m                \u001b[49m\u001b[38;5;124;43m\"\u001b[39;49m\u001b[38;5;124;43mmcm_method\u001b[39;49m\u001b[38;5;124;43m\"\u001b[39;49m\u001b[43m:\u001b[49m\u001b[43m \u001b[49m\u001b[43mexecution_config\u001b[49m\u001b[38;5;241;43m.\u001b[39;49m\u001b[43mmcm_config\u001b[49m\u001b[38;5;241;43m.\u001b[39;49m\u001b[43mmcm_method\u001b[49m\u001b[43m,\u001b[49m\n\u001b[0;32m    640\u001b[0m \u001b[43m                \u001b[49m\u001b[38;5;124;43m\"\u001b[39;49m\u001b[38;5;124;43mpostselect_mode\u001b[39;49m\u001b[38;5;124;43m\"\u001b[39;49m\u001b[43m:\u001b[49m\u001b[43m \u001b[49m\u001b[43mexecution_config\u001b[49m\u001b[38;5;241;43m.\u001b[39;49m\u001b[43mmcm_config\u001b[49m\u001b[38;5;241;43m.\u001b[39;49m\u001b[43mpostselect_mode\u001b[49m\u001b[43m,\u001b[49m\n\u001b[0;32m    641\u001b[0m \u001b[43m            \u001b[49m\u001b[43m}\u001b[49m\u001b[43m,\u001b[49m\n\u001b[0;32m    642\u001b[0m \u001b[43m        \u001b[49m\u001b[43m)\u001b[49m\n\u001b[0;32m    643\u001b[0m         \u001b[38;5;28;01mfor\u001b[39;00m c, _key \u001b[38;5;129;01min\u001b[39;00m \u001b[38;5;28mzip\u001b[39m(circuits, prng_keys)\n\u001b[0;32m    644\u001b[0m     )\n\u001b[0;32m    646\u001b[0m vanilla_circuits \u001b[38;5;241m=\u001b[39m convert_to_numpy_parameters(circuits)[\u001b[38;5;241m0\u001b[39m]\n\u001b[0;32m    647\u001b[0m seeds \u001b[38;5;241m=\u001b[39m \u001b[38;5;28mself\u001b[39m\u001b[38;5;241m.\u001b[39m_rng\u001b[38;5;241m.\u001b[39mintegers(\u001b[38;5;241m2\u001b[39m\u001b[38;5;241m*\u001b[39m\u001b[38;5;241m*\u001b[39m\u001b[38;5;241m31\u001b[39m \u001b[38;5;241m-\u001b[39m \u001b[38;5;241m1\u001b[39m, size\u001b[38;5;241m=\u001b[39m\u001b[38;5;28mlen\u001b[39m(vanilla_circuits))\n",
            "File \u001b[1;32mc:\\Users\\wine\\anaconda3\\envs\\QGNN\\lib\\site-packages\\pennylane\\devices\\default_qubit.py:896\u001b[0m, in \u001b[0;36m_simulate_wrapper\u001b[1;34m(circuit, kwargs)\u001b[0m\n\u001b[0;32m    895\u001b[0m \u001b[38;5;28;01mdef\u001b[39;00m\u001b[38;5;250m \u001b[39m\u001b[38;5;21m_simulate_wrapper\u001b[39m(circuit, kwargs):\n\u001b[1;32m--> 896\u001b[0m     \u001b[38;5;28;01mreturn\u001b[39;00m simulate(circuit, \u001b[38;5;241m*\u001b[39m\u001b[38;5;241m*\u001b[39mkwargs)\n",
            "File \u001b[1;32mc:\\Users\\wine\\anaconda3\\envs\\QGNN\\lib\\site-packages\\pennylane\\logging\\decorators.py:61\u001b[0m, in \u001b[0;36mlog_string_debug_func.<locals>.wrapper_entry\u001b[1;34m(*args, **kwargs)\u001b[0m\n\u001b[0;32m     54\u001b[0m     s_caller \u001b[38;5;241m=\u001b[39m \u001b[38;5;124m\"\u001b[39m\u001b[38;5;124m::L\u001b[39m\u001b[38;5;124m\"\u001b[39m\u001b[38;5;241m.\u001b[39mjoin(\n\u001b[0;32m     55\u001b[0m         [\u001b[38;5;28mstr\u001b[39m(i) \u001b[38;5;28;01mfor\u001b[39;00m i \u001b[38;5;129;01min\u001b[39;00m inspect\u001b[38;5;241m.\u001b[39mgetouterframes(inspect\u001b[38;5;241m.\u001b[39mcurrentframe(), \u001b[38;5;241m2\u001b[39m)[\u001b[38;5;241m1\u001b[39m][\u001b[38;5;241m1\u001b[39m:\u001b[38;5;241m3\u001b[39m]]\n\u001b[0;32m     56\u001b[0m     )\n\u001b[0;32m     57\u001b[0m     lgr\u001b[38;5;241m.\u001b[39mdebug(\n\u001b[0;32m     58\u001b[0m         \u001b[38;5;124mf\u001b[39m\u001b[38;5;124m\"\u001b[39m\u001b[38;5;124mCalling \u001b[39m\u001b[38;5;132;01m{\u001b[39;00mf_string\u001b[38;5;132;01m}\u001b[39;00m\u001b[38;5;124m from \u001b[39m\u001b[38;5;132;01m{\u001b[39;00ms_caller\u001b[38;5;132;01m}\u001b[39;00m\u001b[38;5;124m\"\u001b[39m,\n\u001b[0;32m     59\u001b[0m         \u001b[38;5;241m*\u001b[39m\u001b[38;5;241m*\u001b[39m_debug_log_kwargs,\n\u001b[0;32m     60\u001b[0m     )\n\u001b[1;32m---> 61\u001b[0m \u001b[38;5;28;01mreturn\u001b[39;00m func(\u001b[38;5;241m*\u001b[39margs, \u001b[38;5;241m*\u001b[39m\u001b[38;5;241m*\u001b[39mkwargs)\n",
            "File \u001b[1;32mc:\\Users\\wine\\anaconda3\\envs\\QGNN\\lib\\site-packages\\pennylane\\devices\\qubit\\simulate.py:379\u001b[0m, in \u001b[0;36msimulate\u001b[1;34m(circuit, debugger, state_cache, **execution_kwargs)\u001b[0m\n\u001b[0;32m    376\u001b[0m     \u001b[38;5;28;01mreturn\u001b[39;00m \u001b[38;5;28mtuple\u001b[39m(results)\n\u001b[0;32m    378\u001b[0m ops_key, meas_key \u001b[38;5;241m=\u001b[39m jax_random_split(prng_key)\n\u001b[1;32m--> 379\u001b[0m state, is_state_batched \u001b[38;5;241m=\u001b[39m get_final_state(\n\u001b[0;32m    380\u001b[0m     circuit, debugger\u001b[38;5;241m=\u001b[39mdebugger, prng_key\u001b[38;5;241m=\u001b[39mops_key, \u001b[38;5;241m*\u001b[39m\u001b[38;5;241m*\u001b[39mexecution_kwargs\n\u001b[0;32m    381\u001b[0m )\n\u001b[0;32m    382\u001b[0m \u001b[38;5;28;01mif\u001b[39;00m state_cache \u001b[38;5;129;01mis\u001b[39;00m \u001b[38;5;129;01mnot\u001b[39;00m \u001b[38;5;28;01mNone\u001b[39;00m:\n\u001b[0;32m    383\u001b[0m     state_cache[circuit\u001b[38;5;241m.\u001b[39mhash] \u001b[38;5;241m=\u001b[39m state\n",
            "File \u001b[1;32mc:\\Users\\wine\\anaconda3\\envs\\QGNN\\lib\\site-packages\\pennylane\\logging\\decorators.py:61\u001b[0m, in \u001b[0;36mlog_string_debug_func.<locals>.wrapper_entry\u001b[1;34m(*args, **kwargs)\u001b[0m\n\u001b[0;32m     54\u001b[0m     s_caller \u001b[38;5;241m=\u001b[39m \u001b[38;5;124m\"\u001b[39m\u001b[38;5;124m::L\u001b[39m\u001b[38;5;124m\"\u001b[39m\u001b[38;5;241m.\u001b[39mjoin(\n\u001b[0;32m     55\u001b[0m         [\u001b[38;5;28mstr\u001b[39m(i) \u001b[38;5;28;01mfor\u001b[39;00m i \u001b[38;5;129;01min\u001b[39;00m inspect\u001b[38;5;241m.\u001b[39mgetouterframes(inspect\u001b[38;5;241m.\u001b[39mcurrentframe(), \u001b[38;5;241m2\u001b[39m)[\u001b[38;5;241m1\u001b[39m][\u001b[38;5;241m1\u001b[39m:\u001b[38;5;241m3\u001b[39m]]\n\u001b[0;32m     56\u001b[0m     )\n\u001b[0;32m     57\u001b[0m     lgr\u001b[38;5;241m.\u001b[39mdebug(\n\u001b[0;32m     58\u001b[0m         \u001b[38;5;124mf\u001b[39m\u001b[38;5;124m\"\u001b[39m\u001b[38;5;124mCalling \u001b[39m\u001b[38;5;132;01m{\u001b[39;00mf_string\u001b[38;5;132;01m}\u001b[39;00m\u001b[38;5;124m from \u001b[39m\u001b[38;5;132;01m{\u001b[39;00ms_caller\u001b[38;5;132;01m}\u001b[39;00m\u001b[38;5;124m\"\u001b[39m,\n\u001b[0;32m     59\u001b[0m         \u001b[38;5;241m*\u001b[39m\u001b[38;5;241m*\u001b[39m_debug_log_kwargs,\n\u001b[0;32m     60\u001b[0m     )\n\u001b[1;32m---> 61\u001b[0m \u001b[38;5;28;01mreturn\u001b[39;00m func(\u001b[38;5;241m*\u001b[39margs, \u001b[38;5;241m*\u001b[39m\u001b[38;5;241m*\u001b[39mkwargs)\n",
            "File \u001b[1;32mc:\\Users\\wine\\anaconda3\\envs\\QGNN\\lib\\site-packages\\pennylane\\devices\\qubit\\simulate.py:208\u001b[0m, in \u001b[0;36mget_final_state\u001b[1;34m(circuit, debugger, **execution_kwargs)\u001b[0m\n\u001b[0;32m    206\u001b[0m \u001b[38;5;28;01mif\u001b[39;00m \u001b[38;5;28misinstance\u001b[39m(op, MidMeasureMP):\n\u001b[0;32m    207\u001b[0m     prng_key, key \u001b[38;5;241m=\u001b[39m jax_random_split(prng_key)\n\u001b[1;32m--> 208\u001b[0m state \u001b[38;5;241m=\u001b[39m apply_operation(\n\u001b[0;32m    209\u001b[0m     op,\n\u001b[0;32m    210\u001b[0m     state,\n\u001b[0;32m    211\u001b[0m     is_state_batched\u001b[38;5;241m=\u001b[39mis_state_batched,\n\u001b[0;32m    212\u001b[0m     debugger\u001b[38;5;241m=\u001b[39mdebugger,\n\u001b[0;32m    213\u001b[0m     prng_key\u001b[38;5;241m=\u001b[39mkey,\n\u001b[0;32m    214\u001b[0m     tape_shots\u001b[38;5;241m=\u001b[39mcircuit\u001b[38;5;241m.\u001b[39mshots,\n\u001b[0;32m    215\u001b[0m     \u001b[38;5;241m*\u001b[39m\u001b[38;5;241m*\u001b[39mexecution_kwargs,\n\u001b[0;32m    216\u001b[0m )\n\u001b[0;32m    217\u001b[0m \u001b[38;5;66;03m# Handle postselection on mid-circuit measurements\u001b[39;00m\n\u001b[0;32m    218\u001b[0m \u001b[38;5;28;01mif\u001b[39;00m \u001b[38;5;28misinstance\u001b[39m(op, qml\u001b[38;5;241m.\u001b[39mProjector):\n",
            "File \u001b[1;32mc:\\Users\\wine\\anaconda3\\envs\\QGNN\\lib\\functools.py:888\u001b[0m, in \u001b[0;36msingledispatch.<locals>.wrapper\u001b[1;34m(*args, **kw)\u001b[0m\n\u001b[0;32m    884\u001b[0m \u001b[38;5;28;01mif\u001b[39;00m \u001b[38;5;129;01mnot\u001b[39;00m args:\n\u001b[0;32m    885\u001b[0m     \u001b[38;5;28;01mraise\u001b[39;00m \u001b[38;5;167;01mTypeError\u001b[39;00m(\u001b[38;5;124mf\u001b[39m\u001b[38;5;124m'\u001b[39m\u001b[38;5;132;01m{\u001b[39;00mfuncname\u001b[38;5;132;01m}\u001b[39;00m\u001b[38;5;124m requires at least \u001b[39m\u001b[38;5;124m'\u001b[39m\n\u001b[0;32m    886\u001b[0m                     \u001b[38;5;124m'\u001b[39m\u001b[38;5;124m1 positional argument\u001b[39m\u001b[38;5;124m'\u001b[39m)\n\u001b[1;32m--> 888\u001b[0m \u001b[38;5;28;01mreturn\u001b[39;00m dispatch(args[\u001b[38;5;241m0\u001b[39m]\u001b[38;5;241m.\u001b[39m\u001b[38;5;18m__class__\u001b[39m)(\u001b[38;5;241m*\u001b[39margs, \u001b[38;5;241m*\u001b[39m\u001b[38;5;241m*\u001b[39mkw)\n",
            "File \u001b[1;32mc:\\Users\\wine\\anaconda3\\envs\\QGNN\\lib\\site-packages\\pennylane\\devices\\qubit\\apply_operation.py:218\u001b[0m, in \u001b[0;36mapply_operation\u001b[1;34m(op, state, is_state_batched, debugger, **_)\u001b[0m\n\u001b[0;32m    152\u001b[0m \u001b[38;5;129m@singledispatch\u001b[39m\n\u001b[0;32m    153\u001b[0m \u001b[38;5;28;01mdef\u001b[39;00m\u001b[38;5;250m \u001b[39m\u001b[38;5;21mapply_operation\u001b[39m(\n\u001b[0;32m    154\u001b[0m     op: qml\u001b[38;5;241m.\u001b[39moperation\u001b[38;5;241m.\u001b[39mOperator,\n\u001b[1;32m   (...)\u001b[0m\n\u001b[0;32m    158\u001b[0m     \u001b[38;5;241m*\u001b[39m\u001b[38;5;241m*\u001b[39m_,\n\u001b[0;32m    159\u001b[0m ):\n\u001b[0;32m    160\u001b[0m \u001b[38;5;250m    \u001b[39m\u001b[38;5;124;03m\"\"\"Apply and operator to a given state.\u001b[39;00m\n\u001b[0;32m    161\u001b[0m \n\u001b[0;32m    162\u001b[0m \u001b[38;5;124;03m    Args:\u001b[39;00m\n\u001b[1;32m   (...)\u001b[0m\n\u001b[0;32m    216\u001b[0m \n\u001b[0;32m    217\u001b[0m \u001b[38;5;124;03m    \"\"\"\u001b[39;00m\n\u001b[1;32m--> 218\u001b[0m     \u001b[38;5;28;01mreturn\u001b[39;00m \u001b[43m_apply_operation_default\u001b[49m\u001b[43m(\u001b[49m\u001b[43mop\u001b[49m\u001b[43m,\u001b[49m\u001b[43m \u001b[49m\u001b[43mstate\u001b[49m\u001b[43m,\u001b[49m\u001b[43m \u001b[49m\u001b[43mis_state_batched\u001b[49m\u001b[43m,\u001b[49m\u001b[43m \u001b[49m\u001b[43mdebugger\u001b[49m\u001b[43m)\u001b[49m\n",
            "File \u001b[1;32mc:\\Users\\wine\\anaconda3\\envs\\QGNN\\lib\\site-packages\\pennylane\\devices\\qubit\\apply_operation.py:228\u001b[0m, in \u001b[0;36m_apply_operation_default\u001b[1;34m(op, state, is_state_batched, debugger)\u001b[0m\n\u001b[0;32m    222\u001b[0m \u001b[38;5;250m\u001b[39m\u001b[38;5;124;03m\"\"\"The default behaviour of apply_operation, accessed through the standard dispatch\u001b[39;00m\n\u001b[0;32m    223\u001b[0m \u001b[38;5;124;03mof apply_operation, as well as conditionally in other dispatches.\"\"\"\u001b[39;00m\n\u001b[0;32m    224\u001b[0m \u001b[38;5;28;01mif\u001b[39;00m (\n\u001b[0;32m    225\u001b[0m     \u001b[38;5;28mlen\u001b[39m(op\u001b[38;5;241m.\u001b[39mwires) \u001b[38;5;241m<\u001b[39m EINSUM_OP_WIRECOUNT_PERF_THRESHOLD\n\u001b[0;32m    226\u001b[0m     \u001b[38;5;129;01mand\u001b[39;00m math\u001b[38;5;241m.\u001b[39mndim(state) \u001b[38;5;241m<\u001b[39m EINSUM_STATE_WIRECOUNT_PERF_THRESHOLD\n\u001b[0;32m    227\u001b[0m ) \u001b[38;5;129;01mor\u001b[39;00m (op\u001b[38;5;241m.\u001b[39mbatch_size \u001b[38;5;129;01mand\u001b[39;00m is_state_batched):\n\u001b[1;32m--> 228\u001b[0m     \u001b[38;5;28;01mreturn\u001b[39;00m \u001b[43mapply_operation_einsum\u001b[49m\u001b[43m(\u001b[49m\u001b[43mop\u001b[49m\u001b[43m,\u001b[49m\u001b[43m \u001b[49m\u001b[43mstate\u001b[49m\u001b[43m,\u001b[49m\u001b[43m \u001b[49m\u001b[43mis_state_batched\u001b[49m\u001b[38;5;241;43m=\u001b[39;49m\u001b[43mis_state_batched\u001b[49m\u001b[43m)\u001b[49m\n\u001b[0;32m    229\u001b[0m \u001b[38;5;28;01mreturn\u001b[39;00m apply_operation_tensordot(op, state, is_state_batched\u001b[38;5;241m=\u001b[39mis_state_batched)\n",
            "File \u001b[1;32mc:\\Users\\wine\\anaconda3\\envs\\QGNN\\lib\\site-packages\\pennylane\\devices\\qubit\\apply_operation.py:102\u001b[0m, in \u001b[0;36mapply_operation_einsum\u001b[1;34m(op, state, is_state_batched)\u001b[0m\n\u001b[0;32m     99\u001b[0m         op\u001b[38;5;241m.\u001b[39m_batch_size \u001b[38;5;241m=\u001b[39m batch_size  \u001b[38;5;66;03m# pylint:disable=protected-access\u001b[39;00m\n\u001b[0;32m    100\u001b[0m reshaped_mat \u001b[38;5;241m=\u001b[39m math\u001b[38;5;241m.\u001b[39mreshape(mat, new_mat_shape)\n\u001b[1;32m--> 102\u001b[0m \u001b[38;5;28;01mreturn\u001b[39;00m \u001b[43mmath\u001b[49m\u001b[38;5;241;43m.\u001b[39;49m\u001b[43meinsum\u001b[49m\u001b[43m(\u001b[49m\u001b[43meinsum_indices\u001b[49m\u001b[43m,\u001b[49m\u001b[43m \u001b[49m\u001b[43mreshaped_mat\u001b[49m\u001b[43m,\u001b[49m\u001b[43m \u001b[49m\u001b[43mstate\u001b[49m\u001b[43m)\u001b[49m\n",
            "File \u001b[1;32mc:\\Users\\wine\\anaconda3\\envs\\QGNN\\lib\\site-packages\\pennylane\\math\\multi_dispatch.py:557\u001b[0m, in \u001b[0;36meinsum\u001b[1;34m(indices, like, optimize, *operands)\u001b[0m\n\u001b[0;32m    554\u001b[0m operands \u001b[38;5;241m=\u001b[39m np\u001b[38;5;241m.\u001b[39mcoerce(operands, like\u001b[38;5;241m=\u001b[39mlike)\n\u001b[0;32m    555\u001b[0m \u001b[38;5;28;01mif\u001b[39;00m optimize \u001b[38;5;129;01mis\u001b[39;00m \u001b[38;5;28;01mNone\u001b[39;00m \u001b[38;5;129;01mor\u001b[39;00m like \u001b[38;5;241m==\u001b[39m \u001b[38;5;124m\"\u001b[39m\u001b[38;5;124mtorch\u001b[39m\u001b[38;5;124m\"\u001b[39m:\n\u001b[0;32m    556\u001b[0m     \u001b[38;5;66;03m# torch einsum doesn't support the optimize keyword argument\u001b[39;00m\n\u001b[1;32m--> 557\u001b[0m     \u001b[38;5;28;01mreturn\u001b[39;00m \u001b[43mnp\u001b[49m\u001b[38;5;241;43m.\u001b[39;49m\u001b[43meinsum\u001b[49m\u001b[43m(\u001b[49m\u001b[43mindices\u001b[49m\u001b[43m,\u001b[49m\u001b[43m \u001b[49m\u001b[38;5;241;43m*\u001b[39;49m\u001b[43moperands\u001b[49m\u001b[43m,\u001b[49m\u001b[43m \u001b[49m\u001b[43mlike\u001b[49m\u001b[38;5;241;43m=\u001b[39;49m\u001b[43mlike\u001b[49m\u001b[43m)\u001b[49m\n\u001b[0;32m    558\u001b[0m \u001b[38;5;28;01mif\u001b[39;00m like \u001b[38;5;241m==\u001b[39m \u001b[38;5;124m\"\u001b[39m\u001b[38;5;124mtensorflow\u001b[39m\u001b[38;5;124m\"\u001b[39m:\n\u001b[0;32m    559\u001b[0m     \u001b[38;5;66;03m# Unpacking and casting necessary for higher order derivatives,\u001b[39;00m\n\u001b[0;32m    560\u001b[0m     \u001b[38;5;66;03m# and avoiding implicit fp32 down-conversions.\u001b[39;00m\n\u001b[0;32m    561\u001b[0m     op1, op2 \u001b[38;5;241m=\u001b[39m operands\n",
            "File \u001b[1;32mc:\\Users\\wine\\anaconda3\\envs\\QGNN\\lib\\site-packages\\autoray\\autoray.py:81\u001b[0m, in \u001b[0;36mdo\u001b[1;34m(fn, like, *args, **kwargs)\u001b[0m\n\u001b[0;32m     79\u001b[0m backend \u001b[38;5;241m=\u001b[39m _choose_backend(fn, args, kwargs, like\u001b[38;5;241m=\u001b[39mlike)\n\u001b[0;32m     80\u001b[0m func \u001b[38;5;241m=\u001b[39m get_lib_fn(backend, fn)\n\u001b[1;32m---> 81\u001b[0m \u001b[38;5;28;01mreturn\u001b[39;00m func(\u001b[38;5;241m*\u001b[39margs, \u001b[38;5;241m*\u001b[39m\u001b[38;5;241m*\u001b[39mkwargs)\n",
            "File \u001b[1;32mc:\\Users\\wine\\anaconda3\\envs\\QGNN\\lib\\site-packages\\torch\\functional.py:422\u001b[0m, in \u001b[0;36meinsum\u001b[1;34m(*args)\u001b[0m\n\u001b[0;32m    417\u001b[0m     \u001b[38;5;28;01mreturn\u001b[39;00m einsum(equation, \u001b[38;5;241m*\u001b[39m_operands)\n\u001b[0;32m    419\u001b[0m \u001b[38;5;28;01mif\u001b[39;00m \u001b[38;5;28mlen\u001b[39m(operands) \u001b[38;5;241m<\u001b[39m\u001b[38;5;241m=\u001b[39m \u001b[38;5;241m2\u001b[39m \u001b[38;5;129;01mor\u001b[39;00m \u001b[38;5;129;01mnot\u001b[39;00m opt_einsum\u001b[38;5;241m.\u001b[39menabled:\n\u001b[0;32m    420\u001b[0m     \u001b[38;5;66;03m# the path for contracting 0 or 1 time(s) is already optimized\u001b[39;00m\n\u001b[0;32m    421\u001b[0m     \u001b[38;5;66;03m# or the user has disabled using opt_einsum\u001b[39;00m\n\u001b[1;32m--> 422\u001b[0m     \u001b[38;5;28;01mreturn\u001b[39;00m \u001b[43m_VF\u001b[49m\u001b[38;5;241;43m.\u001b[39;49m\u001b[43meinsum\u001b[49m\u001b[43m(\u001b[49m\u001b[43mequation\u001b[49m\u001b[43m,\u001b[49m\u001b[43m \u001b[49m\u001b[43moperands\u001b[49m\u001b[43m)\u001b[49m  \u001b[38;5;66;03m# type: ignore[attr-defined]\u001b[39;00m\n\u001b[0;32m    424\u001b[0m path \u001b[38;5;241m=\u001b[39m \u001b[38;5;28;01mNone\u001b[39;00m\n\u001b[0;32m    425\u001b[0m \u001b[38;5;28;01mif\u001b[39;00m opt_einsum\u001b[38;5;241m.\u001b[39mis_available():\n",
            "\u001b[1;31mKeyboardInterrupt\u001b[0m: "
          ]
        }
      ],
      "source": [
        "training_sinr = []\n",
        "testing_sinr = []\n",
        "for epoch in range(num_epochs):\n",
        "    # Train the model\n",
        "    avg_train_loss = train(model, train_loader, optimizer)\n",
        "    scheduler.step()\n",
        "    avg_test_sinr = test(model, test_loader)\n",
        "    training_sinr.append(avg_train_loss)\n",
        "    testing_sinr.append(avg_test_sinr)\n",
        "    print(f\"Epoch {epoch + 1}/{num_epochs}, Training loss: {-avg_train_loss:.4f}, Training SINR: {training_sinr[-1]:.4f}, Testing SINR: {testing_sinr[-1]:.4f}\")"
      ]
    },
    {
      "cell_type": "code",
      "execution_count": null,
      "id": "c7c87688",
      "metadata": {},
      "outputs": [],
      "source": [
        "eval_loader = DataLoader(test_dataset, batch_size=testing_sam, shuffle=False)\n",
        "\n",
        "for data, direct, cross in eval_loader:\n",
        "    bs = data.num_graphs\n",
        "    M = direct.shape[1]\n",
        "    K = data.x.shape[0] // M // bs\n",
        "    optimizer.zero_grad()\n",
        "\n",
        "    output = model(data.x, data.edge_attr, data.edge_index, data.batch) # .reshape(bs, -1)\n",
        "    # output = output.reshape(bs,-1)\n",
        "    power = output.reshape(bs, M, K)\n",
        "    power = torch.mean(power, dim=2)\n",
        "    qgnn_rates = rate_loss(power, direct, cross, True).flatten().detach().numpy()\n",
        "\n",
        "    full = torch.ones_like(power)\n",
        "    all_one_rates = rate_loss(full, direct, cross, True).flatten().numpy()\n",
        "    \n",
        "test_data = scipy.io.loadmat('cf_test_6_30.mat')\n",
        "opt_rates = test_data['R_cf_opt_min'][:,:testing_sam]"
      ]
    },
    {
      "cell_type": "code",
      "execution_count": null,
      "id": "03c3bb00",
      "metadata": {},
      "outputs": [],
      "source": [
        "num_ep = test_layouts\n",
        "min_rate, max_rate = 0, 2\n",
        "y_axis = np.arange(0, 1.0, 1/(num_ep+2))\n",
        "qgnn_rates.sort(); all_one_rates.sort(); opt_rates.sort()\n",
        "qgnn_rates = np.insert(qgnn_rates, 0, min_rate); qgnn_rates = np.insert(qgnn_rates,num_ep+1,max_rate)\n",
        "all_one_rates = np.insert(all_one_rates, 0, min_rate); all_one_rates = np.insert(all_one_rates,num_ep+1,max_rate)\n",
        "opt_rates = np.insert(opt_rates, 0, min_rate); opt_rates = np.insert(opt_rates,num_ep+1,max_rate)"
      ]
    },
    {
      "cell_type": "code",
      "execution_count": null,
      "id": "cc722e00",
      "metadata": {},
      "outputs": [
        {
          "data": {
            "image/png": "[encoded data removed]",
            "text/plain": [
              "<Figure size 640x480 with 1 Axes>"
            ]
          },
          "metadata": {},
          "output_type": "display_data"
        }
      ],
      "source": [
        "plt.plot(qgnn_rates, y_axis, label = 'QGNN')\n",
        "plt.plot(gnn_rates, y_axis, label = 'GNN')\n",
        "plt.plot(opt_rates, y_axis, label = 'Optimal')\n",
        "plt.plot(all_one_rates, y_axis, label = 'Maximum Power')\n",
        "plt.xlabel('Minimum rate [bps/Hz]', {'fontsize':16})\n",
        "plt.ylabel('Empirical CDF', {'fontsize':16})\n",
        "plt.legend(fontsize = 12)\n",
        "plt.grid()"
      ]
    },
    {
      "cell_type": "code",
      "execution_count": null,
      "id": "15f739a4",
      "metadata": {},
      "outputs": [],
      "source": []
    }
  ],
  "metadata": {
    "colab": {
      "provenance": [],
      "toc_visible": true
    },
    "environment": {
      "kernel": "python3",
      "name": "pytorch-gpu.1-9.m82",
      "type": "gcloud",
      "uri": "gcr.io/deeplearning-platform-release/pytorch-gpu.1-9:m82"
    },
    "kernelspec": {
      "display_name": "QGNN",
      "language": "python",
      "name": "python3"
    },
    "language_info": {
      "codemirror_mode": {
        "name": "ipython",
        "version": 3
      },
      "file_extension": ".py",
      "mimetype": "text/x-python",
      "name": "python",
      "nbconvert_exporter": "python",
      "pygments_lexer": "ipython3",
      "version": "3.9.21"
    }
  },
  "nbformat": 4,
  "nbformat_minor": 5
}
