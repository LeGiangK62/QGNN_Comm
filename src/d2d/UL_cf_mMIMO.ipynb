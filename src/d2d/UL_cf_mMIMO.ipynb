{
  "cells": [
    {
      "cell_type": "code",
      "execution_count": 12,
      "id": "dUWvIwZzosEW",
      "metadata": {
        "colab": {
          "base_uri": "https://localhost:8080/",
          "height": 73
        },
        "id": "dUWvIwZzosEW",
        "outputId": "4cd38175-3025-4a4b-fe6a-d496db648963"
      },
      "outputs": [
        {
          "name": "stdout",
          "output_type": "stream",
          "text": [
            "c:\\Users\\wine\\Giang\\Code\\Python\\QGNN_Comm\\data\n"
          ]
        },
        {
          "name": "stderr",
          "output_type": "stream",
          "text": [
            "c:\\Users\\wine\\anaconda3\\envs\\QGNN\\lib\\site-packages\\IPython\\core\\magics\\osm.py:417: UserWarning: using dhist requires you to install the `pickleshare` library.\n",
            "  self.shell.db['dhist'] = compress_dhist(dhist)[-100:]\n"
          ]
        }
      ],
      "source": [
        "%cd ../../data"
      ]
    },
    {
      "cell_type": "code",
      "execution_count": 2,
      "id": "d6bd1331-2391-4a69-b671-97ddba099d68",
      "metadata": {
        "id": "d6bd1331-2391-4a69-b671-97ddba099d68"
      },
      "outputs": [],
      "source": [
        "import numpy as np\n",
        "import torch\n",
        "from torch_geometric.loader import  DataLoader\n",
        "from torch_geometric.data import HeteroData, Data, Dataset, Batch\n",
        "import torch.nn.functional as F\n",
        "from torch_geometric.nn import MessagePassing\n",
        "import torch.nn as nn\n",
        "from torch.nn import Sequential as Seq, Linear as Lin, ReLU, ELU, Sigmoid, BatchNorm1d as BN, ReLU6 as ReLU6, PReLU, SiLU\n",
        "import scipy.io\n",
        "from torch_geometric.nn import HeteroConv, SAGEConv\n",
        "import torch_geometric.nn as pyg_nn\n",
        "import torch_geometric.utils as pyg_utils"
      ]
    },
    {
      "cell_type": "markdown",
      "id": "da9f9504-1e9e-41e3-a1e0-2d3909a8c027",
      "metadata": {
        "id": "da9f9504-1e9e-41e3-a1e0-2d3909a8c027"
      },
      "source": [
        "## Create Dataset"
      ]
    },
    {
      "cell_type": "code",
      "execution_count": 3,
      "id": "-wRWgvCvcNya",
      "metadata": {
        "id": "-wRWgvCvcNya"
      },
      "outputs": [],
      "source": [
        "def normalize_data(train_data,test_data):\n",
        "    train_mean = np.mean(train_data)\n",
        "    train_std = np.std(train_data)\n",
        "    norm_train = (train_data)/train_std\n",
        "    norm_test = (test_data)/train_std\n",
        "    n1, n2 = norm_train.shape[0], norm_test.shape[0]\n",
        "    return norm_train, norm_test"
      ]
    },
    {
      "cell_type": "code",
      "execution_count": 4,
      "id": "539vhveBN-ro",
      "metadata": {
        "id": "539vhveBN-ro"
      },
      "outputs": [],
      "source": [
        "class PCDataset(Dataset):\n",
        "    ## norm_losses: normalized beta - large-scale variance\n",
        "    ## direct: direct term - for rate calculation only\n",
        "    ## cross: interference term - for rate calculation only\n",
        "    def __init__(self, norm_losses, direct, cross, KM):\n",
        "        self.norm_losses = norm_losses\n",
        "        self.direct = torch.tensor(direct, dtype=torch.float)\n",
        "        self.cross = torch.tensor(cross, dtype=torch.float)\n",
        "        self.KM = KM\n",
        "        self.get_cg()\n",
        "        self.process()\n",
        "\n",
        "    def build_graph(self, idx):\n",
        "        edge_feature = self.norm_losses[idx, :, :].reshape((self.KM[0] * self.KM[1], 1), order='F')\n",
        "        # x = self.direct[idx, :, :].reshape((self.KM[0] * self.KM[1], 1), order='F')\n",
        "        edge_feature = np.concatenate((edge_feature,  np.ones_like(edge_feature)), axis=-1)\n",
        "        edge_feature = torch.tensor(edge_feature, dtype=torch.float)\n",
        "\n",
        "        edge_index = torch.tensor(self.adj, dtype=torch.long).t().contiguous()\n",
        "        edge_index_t = torch.tensor(self.adj_t, dtype=torch.long).t().contiguous()\n",
        "        ue_features = torch.ones((self.KM[0], 1)) #K\n",
        "        ap_features = torch.ones((self.KM[1], 1)) #M\n",
        "\n",
        "        edge_sum_ue = torch.sum(edge_feature.reshape(self.KM[0], self.KM[1], 2), axis=1)\n",
        "        edge_sum_ap = torch.sum(edge_feature.reshape(self.KM[0], self.KM[1], 2), axis=0).reshape(self.KM[1], 2)\n",
        "\n",
        "        data = HeteroData()\n",
        "        data['UE'].x = ue_features\n",
        "        data['AP'].x = ap_features\n",
        "        data['UE', 'com-by', 'AP'].edge_index = edge_index\n",
        "        data['UE', 'com-by', 'AP'].edge_attr = edge_feature\n",
        "        data['AP', 'com', 'UE'].edge_index = edge_index_t\n",
        "        data['AP', 'com', 'UE'].edge_attr = edge_feature\n",
        "        data['UE'].edge_sum = edge_sum_ue\n",
        "        data['AP'].edge_sum = edge_sum_ap\n",
        "        return data\n",
        "\n",
        "    def get_cg(self):\n",
        "        self.adj = []\n",
        "        self.adj_t = []\n",
        "        for i in range(self.KM[0]):\n",
        "            for j in range(self.KM[1]):\n",
        "                self.adj.append([i, j])\n",
        "                self.adj_t.append([j, i])\n",
        "\n",
        "    def process(self):\n",
        "        self.graph_list = [self.build_graph(i) for i in range(len(self.direct))]\n",
        "\n",
        "    def __len__(self):\n",
        "        return len(self.direct)\n",
        "\n",
        "    def __getitem__(self, index):\n",
        "        return self.graph_list[index], self.direct[index], self.cross[index]"
      ]
    },
    {
      "cell_type": "code",
      "execution_count": 5,
      "id": "c2afeca5-f804-49e7-b89c-42c99bf9aeac",
      "metadata": {
        "id": "c2afeca5-f804-49e7-b89c-42c99bf9aeac"
      },
      "outputs": [],
      "source": [
        "def collate(samples):\n",
        "    '''Pytorch Geometric collate function'''\n",
        "    graphs, direct, cross = map(list, zip(*samples))\n",
        "    batched_graph = Batch.from_data_list(graphs)\n",
        "    return batched_graph, torch.stack(direct), torch.stack(cross)"
      ]
    },
    {
      "cell_type": "markdown",
      "id": "f51f02da-4c7d-40f7-9317-c6030074f439",
      "metadata": {
        "id": "f51f02da-4c7d-40f7-9317-c6030074f439"
      },
      "source": [
        "## Build Graph Neural Networks"
      ]
    },
    {
      "cell_type": "code",
      "execution_count": 6,
      "id": "2PEbjOht7hUJ",
      "metadata": {
        "id": "2PEbjOht7hUJ"
      },
      "outputs": [],
      "source": [
        "def MLP(channels, batch_norm=True):\n",
        "    return Seq(*[\n",
        "        Seq(Lin(channels[i - 1], channels[i]), ReLU(), BN(channels[i]))\n",
        "        for i in range(1, len(channels))\n",
        "    ])\n",
        "class EdgeConv(MessagePassing):\n",
        "    def __init__(self, input_dim, node_dim, **kwargs):\n",
        "        super(EdgeConv, self).__init__(aggr='mean')  # mean aggregation\n",
        "        self.lin = MLP([input_dim, 32])\n",
        "        self.res_lin = Lin(node_dim, 32)\n",
        "        self.bn = BN(32)\n",
        "\n",
        "    def forward(self, x, edge_index, edge_attr):\n",
        "\n",
        "        feat_src, feat_dst = x\n",
        "\n",
        "\n",
        "        out = self.propagate(edge_index=edge_index, x=(feat_src, feat_dst), edge_attr=edge_attr)\n",
        "\n",
        "\n",
        "        return self.bn(out + self.res_lin(feat_dst))\n",
        "\n",
        "    def message(self, x_j, x_i, edge_attr):\n",
        "        # Tạo ra thông điệp từ các nút nguồn, nút đích và đặc tính cạnh\n",
        "        out = torch.cat([x_j, x_i, edge_attr], dim=1)\n",
        "        return self.lin(out)\n",
        "\n",
        "    def update(self, aggr_out):\n",
        "        # Cập nhật giá trị nút đích sau khi tập hợp\n",
        "        return aggr_out\n",
        "\n"
      ]
    },
    {
      "cell_type": "code",
      "execution_count": 7,
      "id": "XOgvGlt-vj8a",
      "metadata": {
        "id": "XOgvGlt-vj8a"
      },
      "outputs": [],
      "source": [
        "class RGCN(nn.Module):\n",
        "    def __init__(self):\n",
        "        super(RGCN, self).__init__()\n",
        "        self.conv1 = HeteroConv({\n",
        "            ('UE', 'com-by', 'AP'): EdgeConv(4, 1),\n",
        "            ('AP', 'com', 'UE'): EdgeConv(4, 1)\n",
        "        }, aggr='mean')\n",
        "\n",
        "        self.conv2 = HeteroConv({\n",
        "            ('UE', 'com-by', 'AP'): EdgeConv(66, 32),\n",
        "            ('AP', 'com', 'UE'): EdgeConv(66, 32)\n",
        "        }, aggr='mean')\n",
        "\n",
        "        self.conv3 = HeteroConv({\n",
        "            ('UE', 'com-by', 'AP'): EdgeConv(66, 32),\n",
        "            ('AP', 'com', 'UE'): EdgeConv(66, 32)\n",
        "        }, aggr='mean')\n",
        "\n",
        "        self.mlp = MLP([32, 16])\n",
        "        self.mlp = nn.Sequential(*[self.mlp, Seq(Lin(16, 1), Sigmoid())])\n",
        "\n",
        "    def forward(self,x_dict, edge_index_dict, edge_attr_dict):\n",
        "        out = self.conv1(x_dict, edge_index_dict, edge_attr_dict)\n",
        "        out = self.conv2(out, edge_index_dict, edge_attr_dict)\n",
        "        out = self.conv3(out, edge_index_dict, edge_attr_dict)\n",
        "        out = self.mlp(out['UE'])\n",
        "        return out\n"
      ]
    },
    {
      "cell_type": "markdown",
      "id": "JdeveKMKbX2W",
      "metadata": {
        "id": "JdeveKMKbX2W"
      },
      "source": [
        "## Function"
      ]
    },
    {
      "cell_type": "code",
      "execution_count": 8,
      "id": "LuPirVfubdYY",
      "metadata": {
        "id": "LuPirVfubdYY"
      },
      "outputs": [],
      "source": [
        "def rate_loss(allocs, directlink_channel_losses, crosslink_channel_losses, test_mode = False):\n",
        "    SINRs_numerators = allocs * directlink_channel_losses**2\n",
        "    SINRs_denominators = torch.squeeze(torch.matmul(crosslink_channel_losses, torch.unsqueeze(allocs, axis=-1))) + directlink_channel_losses\n",
        "    SINRs = SINRs_numerators / SINRs_denominators\n",
        "    rates = torch.log2(1 + SINRs)\n",
        "    min_rate = torch.min(rates, dim = 1)[0] # take min\n",
        "    if test_mode:\n",
        "        return min_rate\n",
        "    else:\n",
        "        return -torch.mean(min_rate)"
      ]
    },
    {
      "cell_type": "code",
      "execution_count": 9,
      "id": "R0uQKs4aTs3e",
      "metadata": {
        "id": "R0uQKs4aTs3e"
      },
      "outputs": [],
      "source": [
        "def train_model(epoch, model, optimizer, train_loader):\n",
        "    \"\"\" Train for one epoch. \"\"\"\n",
        "    model.train()\n",
        "    loss_all = 0\n",
        "    for batch_idx, (data, d_train, c_train) in enumerate(train_loader):\n",
        "        K = d_train.shape[-1]\n",
        "        n = len(data['UE'].x)\n",
        "        bs = len(data['UE'].x) // K\n",
        "\n",
        "        optimizer.zero_grad()\n",
        "\n",
        "        # Lấy các đặc trưng nút từ từ điển x_dict\n",
        "        user_feats = data['AP'].x\n",
        "        item_feats = data['UE'].x\n",
        "        node_features = {'AP': user_feats, 'UE': item_feats}\n",
        "\n",
        "        # Truyền qua mô hình, bao gồm cả edge_attr_dict\n",
        "        output = model(node_features, data.edge_index_dict, data.edge_attr_dict).reshape(bs, -1)\n",
        "        # Tính loss và thực hiện backpropagation\n",
        "        loss = rate_loss(output, d_train, c_train)\n",
        "        loss.backward()\n",
        "\n",
        "        loss_all += loss.item() * bs\n",
        "        optimizer.step()\n",
        "\n",
        "    return loss_all / len(train_loader.dataset)\n",
        "\n",
        "def test_model(loader, model):\n",
        "    model.eval()\n",
        "    correct = 0\n",
        "    with torch.no_grad():\n",
        "        for (data, d_test, c_test) in loader:\n",
        "            K = d_test.shape[-1]\n",
        "            n = len(data['UE'].x)\n",
        "            bs = len(data['UE'].x) // K\n",
        "\n",
        "            # Lấy các đặc trưng nút từ từ điển x_dict\n",
        "            user_feats = data['AP'].x\n",
        "            item_feats = data['UE'].x\n",
        "            # Create a dictionary for node features\n",
        "            node_features = {'AP': user_feats, 'UE': item_feats}\n",
        "\n",
        "            output = model(node_features, data.edge_index_dict, data.edge_attr_dict).reshape(bs, -1)\n",
        "\n",
        "            # Tính loss\n",
        "            loss = rate_loss(output, d_test, c_test)\n",
        "            correct += loss.item() * bs\n",
        "\n",
        "    return correct / len(loader.dataset)"
      ]
    },
    {
      "cell_type": "markdown",
      "id": "hWtuCcHnbaDN",
      "metadata": {
        "id": "hWtuCcHnbaDN"
      },
      "source": [
        "## Main"
      ]
    },
    {
      "cell_type": "markdown",
      "id": "955181fd-3f5e-4856-a2ca-76cd3fc0f1ca",
      "metadata": {
        "id": "955181fd-3f5e-4856-a2ca-76cd3fc0f1ca"
      },
      "source": [
        "### Load and Normalize Data"
      ]
    },
    {
      "cell_type": "code",
      "execution_count": 10,
      "id": "27616693-bb64-4541-b4b7-20ec4a1dd4d8",
      "metadata": {
        "id": "27616693-bb64-4541-b4b7-20ec4a1dd4d8"
      },
      "outputs": [],
      "source": [
        "train_layouts = 100\n",
        "test_layouts = 50"
      ]
    },
    {
      "cell_type": "code",
      "execution_count": 13,
      "id": "fef5f5e7-b31f-40b0-83cc-fc71a8ed7eb1",
      "metadata": {
        "id": "fef5f5e7-b31f-40b0-83cc-fc71a8ed7eb1"
      },
      "outputs": [],
      "source": [
        "data = scipy.io.loadmat('cf_train_6_30.mat')\n",
        "beta_train = data['betas'][:train_layouts]\n",
        "direct_train = data['directs'][:train_layouts]\n",
        "cross_train = data['corsses'][:train_layouts].transpose(0,2,1)"
      ]
    },
    {
      "cell_type": "code",
      "execution_count": 14,
      "id": "b9be47c6-6986-41f0-a521-276c94c64a09",
      "metadata": {
        "id": "b9be47c6-6986-41f0-a521-276c94c64a09"
      },
      "outputs": [],
      "source": [
        "test_data = scipy.io.loadmat('cf_test_6_30.mat')\n",
        "beta_test = test_data['betas'][:test_layouts]\n",
        "direct_test = test_data['directs'][:test_layouts]\n",
        "cross_test = test_data['corsses'][:test_layouts].transpose(0,2,1)"
      ]
    },
    {
      "cell_type": "code",
      "execution_count": 15,
      "id": "9xKdsvB-sc2f",
      "metadata": {
        "id": "9xKdsvB-sc2f"
      },
      "outputs": [],
      "source": [
        "opt_rate = test_data['R_cf_opt_min']"
      ]
    },
    {
      "cell_type": "code",
      "execution_count": 16,
      "id": "KjVfVQAVdzB4",
      "metadata": {
        "colab": {
          "base_uri": "https://localhost:8080/"
        },
        "id": "KjVfVQAVdzB4",
        "outputId": "5d0b356a-2a20-4d5b-bc32-94d7ed63a548"
      },
      "outputs": [
        {
          "data": {
            "text/plain": [
              "1.1406364073519204"
            ]
          },
          "execution_count": 16,
          "metadata": {},
          "output_type": "execute_result"
        }
      ],
      "source": [
        "np.mean(opt_rate)"
      ]
    },
    {
      "cell_type": "code",
      "execution_count": 17,
      "id": "57g_5I6zcgX6",
      "metadata": {
        "id": "57g_5I6zcgX6"
      },
      "outputs": [],
      "source": [
        "norm_train_losses, norm_test_losses = normalize_data(beta_train**(1/2), beta_test**(1/2) )"
      ]
    },
    {
      "cell_type": "code",
      "execution_count": 18,
      "id": "13391c00-16d9-4f62-a7ac-839f4d57d0be",
      "metadata": {
        "id": "13391c00-16d9-4f62-a7ac-839f4d57d0be"
      },
      "outputs": [],
      "source": [
        "## For GNNs, we allow train_K \\neq test_K\n",
        "train_K, train_M = beta_train.shape[2], beta_train.shape[1]\n",
        "test_K, test_M = beta_test.shape[2], beta_test.shape[1]"
      ]
    },
    {
      "cell_type": "code",
      "execution_count": 19,
      "id": "b12f3975-990b-40c5-8def-1317b943b47a",
      "metadata": {
        "id": "b12f3975-990b-40c5-8def-1317b943b47a"
      },
      "outputs": [],
      "source": [
        "train_data = PCDataset(norm_train_losses, direct_train, cross_train, (train_K, train_M))\n",
        "test_data = PCDataset(norm_test_losses, direct_test, cross_test, (test_K, test_M))"
      ]
    },
    {
      "cell_type": "code",
      "execution_count": 20,
      "id": "37ec3c11-b549-474d-8e64-031a277e3c3d",
      "metadata": {
        "id": "37ec3c11-b549-474d-8e64-031a277e3c3d"
      },
      "outputs": [],
      "source": [
        "batch_size = 32\n",
        "train_loader = DataLoader(train_data, batch_size, shuffle=True, collate_fn=collate)\n",
        "test_loader = DataLoader(test_data, batch_size, shuffle=False, collate_fn=collate)\n",
        "eval_loader = DataLoader(test_data, test_layouts, shuffle=False, collate_fn=collate)"
      ]
    },
    {
      "cell_type": "code",
      "execution_count": 21,
      "id": "J8jWRlnGTNJu",
      "metadata": {
        "id": "J8jWRlnGTNJu"
      },
      "outputs": [],
      "source": [
        "model = RGCN()\n",
        "optimizer = torch.optim.Adam(model.parameters(), lr=5e-5)\n",
        "scheduler = torch.optim.lr_scheduler.StepLR(optimizer, step_size=20, gamma=0.9)"
      ]
    },
    {
      "cell_type": "code",
      "execution_count": 22,
      "id": "sNa9BQm8FIIk",
      "metadata": {
        "colab": {
          "base_uri": "https://localhost:8080/"
        },
        "id": "sNa9BQm8FIIk",
        "outputId": "50b4682b-f659-4b36-aa01-8e1a47b2b1e6"
      },
      "outputs": [
        {
          "name": "stdout",
          "output_type": "stream",
          "text": [
            "Number of trainable parameters: 14593\n"
          ]
        }
      ],
      "source": [
        "trainable_params = sum(p.numel() for p in model.parameters() if p.requires_grad)\n",
        "print(f\"Number of trainable parameters: {trainable_params}\")"
      ]
    },
    {
      "cell_type": "code",
      "execution_count": 23,
      "id": "26c5c83d-9619-4615-ac4a-dd987a8aff2e",
      "metadata": {
        "colab": {
          "base_uri": "https://localhost:8080/"
        },
        "id": "26c5c83d-9619-4615-ac4a-dd987a8aff2e",
        "outputId": "870bd6a0-1357-469e-d34d-576037b3c230"
      },
      "outputs": [
        {
          "name": "stdout",
          "output_type": "stream",
          "text": [
            "Epoch 000, Train Rate: -0.5812, Test Rate: -0.4509\n",
            "Epoch 001, Train Rate: -0.5832, Test Rate: -0.4525\n"
          ]
        },
        {
          "name": "stdout",
          "output_type": "stream",
          "text": [
            "Epoch 002, Train Rate: -0.5854, Test Rate: -0.4545\n",
            "Epoch 003, Train Rate: -0.5878, Test Rate: -0.4561\n",
            "Epoch 004, Train Rate: -0.5909, Test Rate: -0.4584\n",
            "Epoch 005, Train Rate: -0.5932, Test Rate: -0.4594\n",
            "Epoch 006, Train Rate: -0.5979, Test Rate: -0.4613\n",
            "Epoch 007, Train Rate: -0.6002, Test Rate: -0.4617\n",
            "Epoch 008, Train Rate: -0.6004, Test Rate: -0.4599\n",
            "Epoch 009, Train Rate: -0.6013, Test Rate: -0.4590\n",
            "Epoch 010, Train Rate: -0.6042, Test Rate: -0.4582\n",
            "Epoch 011, Train Rate: -0.6093, Test Rate: -0.4617\n",
            "Epoch 012, Train Rate: -0.6105, Test Rate: -0.4609\n",
            "Epoch 013, Train Rate: -0.6138, Test Rate: -0.4629\n",
            "Epoch 014, Train Rate: -0.6149, Test Rate: -0.4663\n",
            "Epoch 015, Train Rate: -0.6177, Test Rate: -0.4694\n",
            "Epoch 016, Train Rate: -0.6230, Test Rate: -0.4743\n",
            "Epoch 017, Train Rate: -0.6292, Test Rate: -0.4806\n",
            "Epoch 018, Train Rate: -0.6403, Test Rate: -0.4902\n",
            "Epoch 019, Train Rate: -0.6504, Test Rate: -0.4981\n"
          ]
        }
      ],
      "source": [
        "record_gnn = []\n",
        "\n",
        "for epoch in range(0, 20):\n",
        "    if epoch % 1 == 0:\n",
        "        with torch.no_grad():\n",
        "            test_rate = test_model(test_loader, model)\n",
        "            train_rate = test_model(train_loader, model)\n",
        "        print(f'Epoch {epoch:03d}, Train Rate: {train_rate:.4f}, Test Rate: {test_rate:.4f}')\n",
        "        record_gnn.append([train_rate, test_rate])\n",
        "\n",
        "    train_model(epoch, model, optimizer, train_loader )\n",
        "    scheduler.step()\n"
      ]
    },
    {
      "cell_type": "markdown",
      "id": "0675224f-7bea-4eb5-ad32-9f20df27b064",
      "metadata": {
        "id": "0675224f-7bea-4eb5-ad32-9f20df27b064"
      },
      "source": [
        "## Plot CDF"
      ]
    },
    {
      "cell_type": "code",
      "execution_count": 24,
      "id": "R9ahSsNEbKgJ",
      "metadata": {
        "id": "R9ahSsNEbKgJ"
      },
      "outputs": [],
      "source": [
        "import matplotlib.pyplot as plt\n",
        "for (data, d_test, c_test) in eval_loader:\n",
        "    K = d_test.shape[-1]\n",
        "    n = len(data['UE'].x)\n",
        "    bs = len(data['UE'].x) // K\n",
        "    #data = data.to(device)\n",
        "    user_feats = data['AP'].x\n",
        "    item_feats = data['UE'].x\n",
        "    node_features = {'AP': user_feats, 'UE': item_feats}\n",
        "    output = model(node_features, data.edge_index_dict, data.edge_attr_dict).reshape(bs,-1)\n",
        "    gnn_rates = rate_loss(output, d_test, c_test, True).flatten().detach().numpy()\n",
        "\n",
        "    full = torch.ones_like(output)\n",
        "    all_one_rates = rate_loss(full, d_test, c_test, True).flatten().numpy()\n",
        "\n",
        "## Load optimal resource allocation from .mat file\n",
        "test_data = scipy.io.loadmat('cf_test_6_30.mat')\n",
        "opt_rates = test_data['R_cf_opt_min'][:,:test_layouts]"
      ]
    },
    {
      "cell_type": "code",
      "execution_count": 25,
      "id": "a9310a8b-1298-4f74-aad9-f55f47a7062d",
      "metadata": {
        "id": "a9310a8b-1298-4f74-aad9-f55f47a7062d"
      },
      "outputs": [],
      "source": [
        "num_ep = test_layouts\n",
        "min_rate, max_rate = 0, 2\n",
        "y_axis = np.arange(0, 1.0, 1/(num_ep+2))\n",
        "gnn_rates.sort(); all_one_rates.sort(); opt_rates.sort()\n",
        "gnn_rates = np.insert(gnn_rates, 0, min_rate); gnn_rates = np.insert(gnn_rates,num_ep+1,max_rate)\n",
        "all_one_rates = np.insert(all_one_rates, 0, min_rate); all_one_rates = np.insert(all_one_rates,num_ep+1,max_rate)\n",
        "opt_rates = np.insert(opt_rates, 0, min_rate); opt_rates = np.insert(opt_rates,num_ep+1,max_rate)"
      ]
    },
    {
      "cell_type": "code",
      "execution_count": 26,
      "id": "d470390c-cd23-4cf9-813a-bb70c1c00f10",
      "metadata": {
        "colab": {
          "base_uri": "https://localhost:8080/",
          "height": 455
        },
        "id": "d470390c-cd23-4cf9-813a-bb70c1c00f10",
        "outputId": "10f39f9d-8a99-46a2-8335-efce5e655982"
      },
      "outputs": [
        {
          "data": {
            "image/png": "[encoded data removed]",
            "text/plain": [
              "<Figure size 640x480 with 1 Axes>"
            ]
          },
          "metadata": {},
          "output_type": "display_data"
        }
      ],
      "source": [
        "plt.plot(gnn_rates, y_axis, label = 'GNN')\n",
        "plt.plot(opt_rates, y_axis, label = 'Optimal')\n",
        "plt.plot(all_one_rates, y_axis, label = 'Maximum Power')\n",
        "plt.xlabel('Minimum rate [bps/Hz]', {'fontsize':16})\n",
        "plt.ylabel('Empirical CDF', {'fontsize':16})\n",
        "plt.legend(fontsize = 12)\n",
        "plt.grid()"
      ]
    },
    {
      "cell_type": "markdown",
      "id": "uClZlcXpw0o0",
      "metadata": {
        "id": "uClZlcXpw0o0"
      },
      "source": [
        "# Graph Data"
      ]
    },
    {
      "cell_type": "code",
      "execution_count": 27,
      "id": "-hKKVfxxw2rh",
      "metadata": {
        "id": "-hKKVfxxw2rh"
      },
      "outputs": [],
      "source": [
        "from torch_geometric.data import Dataset, Data\n",
        "from torch_geometric.loader import DataLoader\n",
        "\n",
        "class cfGraphDataset(Dataset):\n",
        "    def __init__(self, norm_losses, direct, cross, KM):\n",
        "        self.norm_losses = norm_losses\n",
        "        self.direct = torch.tensor(direct, dtype=torch.float32)\n",
        "        self.cross = torch.tensor(cross, dtype=torch.float32)\n",
        "        self.KM = KM\n",
        "\n",
        "        self.num_samples, self.num_AP, self.num_UE = self.norm_losses.shape\n",
        "\n",
        "        self.num_nodes = self.num_AP * self.num_UE\n",
        "\n",
        "        # Generate the dataset (graphs and labels)\n",
        "        self.graphs = [self.create_graph(idx) for idx in range(self.num_samples)]\n",
        "\n",
        "    def create_graph(self, idx):\n",
        "        H = self.norm_losses[idx]\n",
        "        x = torch.tensor(H.flatten()[:,None], dtype=torch.float32)\n",
        "\n",
        "        # Fully connected graph\n",
        "        edge_index = torch.tensor([\n",
        "            [i, j] for i in range(self.num_nodes) for j in range(i+1, self.num_nodes) #if i != j\n",
        "            # [i, j] for i in range(self.num_nodes) for j in range(self.num_nodes) if i != j\n",
        "        ], dtype=torch.long).T  # shape: [2, num_edges]\n",
        "\n",
        "        node_indices = np.arange(self.num_nodes)\n",
        "        row_indices, col_indices = np.unravel_index(node_indices, (self.num_AP, self.num_UE))\n",
        "        node_feat = H[row_indices, col_indices]\n",
        "        edge_attr_mtx = H[row_indices[:, None], col_indices[None, :]]\n",
        "        edge_attr_mtx = torch.tensor(edge_attr_mtx, dtype=torch.float32)\n",
        "        # edge_attr = edge_attr_mtx[edge_index[0], edge_index[1]][:,None]\n",
        "        edge_attr = torch.cat([edge_attr_mtx[edge_index[0], edge_index[1]][:,None], edge_attr_mtx[edge_index[1], edge_index[0]][:,None]], dim=-1)\n",
        "\n",
        "        # y = torch.tensor(self.labels[idx], dtype=torch.float32)\n",
        "\n",
        "        data = Data(\n",
        "            x=x,\n",
        "            edge_index=edge_index,\n",
        "            edge_attr=edge_attr,\n",
        "            direct = self.direct[idx],\n",
        "            cross = self.cross[idx],\n",
        "            # y=y\n",
        "        )\n",
        "        return data\n",
        "\n",
        "    def __len__(self):\n",
        "        return self.num_samples\n",
        "\n",
        "    def __getitem__(self, idx):\n",
        "        return self.graphs[idx], self.direct[idx], self.cross[idx]"
      ]
    },
    {
      "cell_type": "markdown",
      "id": "IZRrIk0suOjC",
      "metadata": {
        "id": "IZRrIk0suOjC"
      },
      "source": [
        "# Utils"
      ]
    },
    {
      "cell_type": "code",
      "execution_count": 28,
      "id": "4HSSwaXruVfb",
      "metadata": {
        "id": "4HSSwaXruVfb"
      },
      "outputs": [],
      "source": [
        "import torch\n",
        "import random\n",
        "from collections import defaultdict"
      ]
    },
    {
      "cell_type": "code",
      "execution_count": 29,
      "id": "3oI9vXQ4uShl",
      "metadata": {
        "id": "3oI9vXQ4uShl"
      },
      "outputs": [],
      "source": [
        "def star_subgraph(adjacency_matrix, subgraph_size=4):\n",
        "    num_nodes = adjacency_matrix.shape[0]\n",
        "    subgraph_indices = []\n",
        "    uncovered_neighbors = set(range(num_nodes))  # All nodes should be covered as neighbors at least once\n",
        "\n",
        "    leaf_counts = defaultdict(int)\n",
        "\n",
        "    seed_nodes = list(range(num_nodes))\n",
        "    random.shuffle(seed_nodes)\n",
        "\n",
        "    for center_node in seed_nodes:\n",
        "        neighbors = [i for i in range(num_nodes) if adjacency_matrix[center_node, i] != 0 and i != center_node]\n",
        "        k = subgraph_size - 1\n",
        "\n",
        "        candidates = neighbors  # Already excludes center node\n",
        "\n",
        "        # Case 1: Not enough neighbors → take all of them\n",
        "        if len(candidates) <= k:\n",
        "            sampled_neighbors = candidates\n",
        "\n",
        "        else:\n",
        "            available_new = list(set(candidates) & uncovered_neighbors)\n",
        "\n",
        "            # Case 2a: enough new nodes → sample from them\n",
        "            if len(available_new) >= k:\n",
        "                sampled_neighbors = random.sample(available_new, k)\n",
        "\n",
        "            # Case 2b: not enough new nodes → take all + fill from candidates\n",
        "            else:\n",
        "                sampled_neighbors = available_new\n",
        "                remaining_k = k - len(sampled_neighbors)\n",
        "                remaining_pool = list(set(candidates) - set(sampled_neighbors))\n",
        "                remaining_pool.sort(key=lambda x: leaf_counts[x])\n",
        "\n",
        "                sampled_neighbors += remaining_pool[:remaining_k]\n",
        "\n",
        "        # Update uncovered neighbor set\n",
        "        uncovered_neighbors -= set(sampled_neighbors)\n",
        "        for node in sampled_neighbors:\n",
        "            leaf_counts[node] += 1\n",
        "\n",
        "        # Add center + its sampled neighbors\n",
        "        subgraph = [center_node] + sampled_neighbors\n",
        "        subgraph_indices.append(subgraph)\n",
        "\n",
        "    return subgraph_indices\n"
      ]
    },
    {
      "cell_type": "code",
      "execution_count": null,
      "id": "i4ffHwJwK0Pj",
      "metadata": {
        "id": "i4ffHwJwK0Pj"
      },
      "outputs": [],
      "source": []
    },
    {
      "cell_type": "code",
      "execution_count": 30,
      "id": "PT4EP_5KJy5z",
      "metadata": {
        "id": "PT4EP_5KJy5z"
      },
      "outputs": [],
      "source": [
        "def train(model, train_loader, optimizer):\n",
        "    model.train()\n",
        "    total_loss = 0\n",
        "    total_sample = 0\n",
        "    for data, direct, cross in train_loader:\n",
        "        bs = data.num_graphs\n",
        "        M = direct.shape[1]\n",
        "        K = data.x.shape[0] // M // bs\n",
        "        optimizer.zero_grad()\n",
        "\n",
        "        output = model(data.x, data.edge_attr, data.edge_index, data.batch) # .reshape(bs, -1)\n",
        "        # output = output.reshape(bs,-1)\n",
        "        power = output.reshape(bs, M, K)\n",
        "        power = torch.mean(power, dim=2)\n",
        "        loss = rate_loss(power, direct, cross)\n",
        "        loss.backward()\n",
        "\n",
        "        total_loss += loss.item() * bs\n",
        "        total_sample += bs\n",
        "        optimizer.step()\n",
        "\n",
        "    return total_loss / total_sample\n",
        "\n",
        "def test(model, test_loader):\n",
        "    model.eval()\n",
        "    total_loss = 0\n",
        "    total_sample = 0\n",
        "    with torch.no_grad():\n",
        "        for data, direct, cross in test_loader:\n",
        "            bs = data.num_graphs\n",
        "            M = direct.shape[1]\n",
        "            K = data.x.shape[0] // M // bs\n",
        "            # optimizer.zero_grad()\n",
        "\n",
        "            output = model(data.x, data.edge_attr, data.edge_index, data.batch) # .reshape(bs, -1)\n",
        "            # output = output.reshape(bs,-1)\n",
        "            power = output.reshape(bs, M, K)\n",
        "            power = torch.mean(power, dim=2)\n",
        "            loss = rate_loss(power, direct, cross)\n",
        "            # loss.backward()\n",
        "\n",
        "            total_loss += loss.item() * bs\n",
        "            total_sample += bs\n",
        "\n",
        "    return total_loss / total_sample"
      ]
    },
    {
      "cell_type": "markdown",
      "id": "Bb-Ai6bit6FF",
      "metadata": {
        "id": "Bb-Ai6bit6FF"
      },
      "source": [
        "# QGNN Model"
      ]
    },
    {
      "cell_type": "markdown",
      "id": "9l455xQAwdQ_",
      "metadata": {
        "id": "9l455xQAwdQ_"
      },
      "source": [
        "## PQC"
      ]
    },
    {
      "cell_type": "code",
      "execution_count": 31,
      "id": "sxOgUSXOt9WR",
      "metadata": {
        "colab": {
          "base_uri": "https://localhost:8080/"
        },
        "id": "sxOgUSXOt9WR",
        "outputId": "7785a5eb-524c-4057-b491-0b1781121a96"
      },
      "outputs": [],
      "source": [
        "import torch\n",
        "import torch.nn as nn\n",
        "import pennylane as qml\n",
        "from pennylane import numpy as np\n",
        "import torch.nn.functional as F\n",
        "from torch_geometric.nn import MLP, global_add_pool, global_mean_pool, global_max_pool\n",
        "\n",
        "def message_passing_pqc(strong, twodesign, inits, wires):\n",
        "    edge, center, neighbor, ancilla1, ancilla2 = wires\n",
        "\n",
        "    qml.CRX(inits[0, 0], wires=[neighbor, ancilla1])\n",
        "    qml.CRY(inits[0, 1], wires=[edge, ancilla1])\n",
        "    qml.CRZ(inits[0, 2], wires=[neighbor, ancilla2])\n",
        "    qml.CRY(inits[0, 3], wires=[edge, ancilla2])\n",
        "    qml.StronglyEntanglingLayers(weights=strong[0], wires=[edge, neighbor, ancilla1])\n",
        "    qml.StronglyEntanglingLayers(weights=strong[1], wires=[ancilla1, neighbor, ancilla2])\n",
        "\n",
        "\n",
        "def qgcn_enhance_layer(inputs, spreadlayer, strong, twodesign, inits, update):\n",
        "    edge_feat_dim = feat_dim = node_feat_dim = 2\n",
        "    inputs = inputs.reshape(-1,feat_dim)\n",
        "\n",
        "    # The number of avaible nodes and edges\n",
        "    total_shape = inputs.shape[0]\n",
        "    num_nodes = (total_shape+1)//2\n",
        "    num_edges = num_nodes - 1\n",
        "\n",
        "    adjacency_matrix, vertex_features = inputs[:num_edges,:], inputs[num_edges:,:]\n",
        "\n",
        "    # The number of qubits assiged to each node and edge\n",
        "    num_qbit = spreadlayer.shape[1]\n",
        "    num_nodes_qbit = (num_qbit+1)//2\n",
        "    num_edges_qbit = num_nodes_qbit - 1\n",
        "\n",
        "    center_wire = num_edges_qbit\n",
        "\n",
        "\n",
        "    for i in range(num_edges):\n",
        "        qml.RY(adjacency_matrix[i][0], wires=i)\n",
        "        qml.RZ(adjacency_matrix[i][1], wires=i)\n",
        "        # qml.RX(adjacency_matrix[i][2], wires=i)\n",
        "\n",
        "    for i in range(num_nodes):\n",
        "        qml.RY(vertex_features[i][0], wires=center_wire+i)\n",
        "        qml.RZ(vertex_features[i][1], wires=center_wire+i)\n",
        "        # qml.RX(vertex_features[i][2], wires=center_wire+i)\n",
        "\n",
        "\n",
        "    for i in range(num_edges):\n",
        "\n",
        "        message_passing_pqc(strong=strong, twodesign=twodesign, inits=inits,\n",
        "                            wires=[i, center_wire, center_wire+i+1, num_qbit, num_qbit+1])\n",
        "\n",
        "    qml.StronglyEntanglingLayers(\n",
        "        weights=update[0],\n",
        "        wires=[center_wire, num_qbit, num_qbit+1]\n",
        "        )\n",
        "    # probs = qml.probs(wires=[center_wire, num_qbit, num_qbit+1])\n",
        "    # return probs\n",
        "    # expval = [qml.expval(qml.PauliZ(w)) for w in [center_wire, num_qbit, num_qbit+1]]\n",
        "    expval = [\n",
        "        qml.expval(qml.PauliX(center_wire))\n",
        "    ]\n",
        "    return expval\n",
        "\n",
        "\n",
        "def small_normal_init(tensor):\n",
        "    return torch.nn.init.normal_(tensor, mean=0.0, std=0.1)\n",
        "\n",
        "def uniform_pi_init(tensor):\n",
        "    return nn.init.uniform_(tensor, a=0.0, b=np.pi)\n",
        "\n",
        "def identity_block_init(tensor):\n",
        "    with torch.no_grad():\n",
        "        tensor.zero_()\n",
        "        if tensor.ndim < 1:\n",
        "            return tensor  # scalar param\n",
        "\n",
        "        # Total number of parameters\n",
        "        total_params = tensor.numel()\n",
        "        num_active = max(1, total_params // 3)\n",
        "\n",
        "        # Flatten, randomize, and reshape\n",
        "        flat = tensor.view(-1)\n",
        "        active_idx = torch.randperm(flat.shape[0])[:num_active]\n",
        "        flat[active_idx] = torch.randn_like(flat[active_idx]) * 0.1\n",
        "\n",
        "        return tensor\n",
        "\n",
        "def input_process(tensor):\n",
        "    # return torch.clamp(tensor, -1.0, 1.0) * np.pi\n",
        "    return torch.tanh(tensor) * np.pi\n"
      ]
    },
    {
      "cell_type": "markdown",
      "id": "_n1ECCXbwb1H",
      "metadata": {
        "id": "_n1ECCXbwb1H"
      },
      "source": [
        "## Model"
      ]
    },
    {
      "cell_type": "code",
      "execution_count": 32,
      "id": "-6HgHd-swa4R",
      "metadata": {
        "id": "-6HgHd-swa4R"
      },
      "outputs": [],
      "source": [
        "class QGNN(nn.Module):\n",
        "    def __init__(self, q_dev, w_shapes, node_input_dim=1, edge_input_dim=1,\n",
        "                 graphlet_size=4, hop_neighbor=1):\n",
        "        super().__init__()\n",
        "        self.hidden_dim = 128\n",
        "        self.graphlet_size = graphlet_size\n",
        "        self.hop_neighbor = hop_neighbor\n",
        "        self.pqc_dim = 2 # number of feat per pqc for each node\n",
        "        self.chunk = 1\n",
        "        self.final_dim = self.pqc_dim * self.chunk # 2\n",
        "        self.pqc_out = 1 # probs?\n",
        "\n",
        "\n",
        "        self.qconvs = nn.ModuleDict()\n",
        "        self.upds = nn.ModuleDict()\n",
        "        self.aggs = nn.ModuleDict()\n",
        "        self.norms = nn.ModuleDict()\n",
        "\n",
        "\n",
        "        self.node_input_dim = node_input_dim\n",
        "        self.edge_input_dim = edge_input_dim if edge_input_dim > 0 else 1\n",
        "\n",
        "\n",
        "        self.input_node = MLP(\n",
        "                    [self.node_input_dim, self.hidden_dim, self.final_dim],\n",
        "                    act='leaky_relu',\n",
        "                    norm=None, dropout=0.3\n",
        "            )\n",
        "\n",
        "        self.input_edge = MLP(\n",
        "                    [self.edge_input_dim, self.hidden_dim, self.pqc_dim],\n",
        "                    act='leaky_relu',\n",
        "                    norm=None, dropout=0.3\n",
        "            )\n",
        "\n",
        "        for i in range(self.hop_neighbor):\n",
        "            qnode = qml.QNode(qgcn_enhance_layer, q_dev,  interface=\"torch\")\n",
        "            self.qconvs[f\"lay{i+1}\"] = qml.qnn.TorchLayer(qnode, w_shapes, uniform_pi_init)\n",
        "\n",
        "            self.upds[f\"lay{i+1}\"] = MLP(\n",
        "                    [self.pqc_dim + self.pqc_out, self.hidden_dim, self.pqc_dim],\n",
        "                    act='leaky_relu',\n",
        "                    norm=None, dropout=0.3\n",
        "            )\n",
        "\n",
        "            self.norms[f\"lay{i+1}\"] = nn.LayerNorm(self.pqc_dim)\n",
        "\n",
        "        self.final_layer = MLP(\n",
        "                [self.final_dim, self.hidden_dim, 1],\n",
        "                act='leaky_relu',\n",
        "                norm=None, dropout=0.3\n",
        "        )\n",
        "\n",
        "    def forward(self, node_feat, edge_attr, edge_index, batch):\n",
        "        edge_index = edge_index.t()\n",
        "        num_nodes = node_feat.size(0)\n",
        "        num_nodes_model = self.graphlet_size\n",
        "        num_edges_model = self.graphlet_size - 1\n",
        "\n",
        "        if edge_attr is None:\n",
        "            edge_attr = torch.ones((edge_index.size(0), self.edge_input_dim), device=node_feat.device)\n",
        "\n",
        "        edge_features = edge_attr.float()\n",
        "        node_features = node_feat.float()\n",
        "\n",
        "        edge_features = self.input_edge(edge_features)\n",
        "        node_features = self.input_node(node_features)\n",
        "\n",
        "        node_features = input_process(node_features)\n",
        "        # # node_features = node_features + 0.01 * torch.randn_like(node_features)\n",
        "        edge_features = input_process(edge_features)\n",
        "\n",
        "\n",
        "        idx_dict = {\n",
        "            (int(u), int(v)): i\n",
        "            for i, (u, v) in enumerate(edge_index.tolist())\n",
        "        }\n",
        "\n",
        "\n",
        "        adj_mtx = torch.zeros((num_nodes, num_nodes), dtype=torch.int)\n",
        "        adj_mtx[edge_index[:, 0], edge_index[:, 1]] = 1\n",
        "        adj_mtx[edge_index[:, 1], edge_index[:, 0]] = 1\n",
        "\n",
        "\n",
        "        for i in range(self.hop_neighbor):\n",
        "            subgraphs = star_subgraph(adj_mtx.cpu().numpy(), subgraph_size=self.graphlet_size)\n",
        "            node_upd = torch.zeros((num_nodes, self.final_dim), device=node_features.device)\n",
        "            q_layer = self.qconvs[f\"lay{i+1}\"]\n",
        "            upd_layer = self.upds[f\"lay{i+1}\"]\n",
        "            norm_layer = self.norms[f\"lay{i+1}\"]\n",
        "\n",
        "            # updates_node = node_features.clone()\n",
        "\n",
        "            centers = []\n",
        "            updates = []\n",
        "\n",
        "            for sub in subgraphs:\n",
        "                center, *neighbors = sub\n",
        "\n",
        "                n_feat = node_features[sub]\n",
        "                edge_idxs = [\n",
        "                    idx_dict[(min(center, int(n)), max(center, int(n)))] \n",
        "                    for n in neighbors \n",
        "                ]\n",
        "                e_feat    = edge_features[edge_idxs]\n",
        "                inputs = torch.cat([e_feat, n_feat], dim=0)\n",
        "\n",
        "                all_msg = q_layer(inputs.flatten())\n",
        "                aggr = all_msg\n",
        "                update_vec = upd_layer(torch.cat([node_features[center], aggr], dim=0))\n",
        "\n",
        "                centers.append(center)\n",
        "                updates.append(update_vec)\n",
        "\n",
        "            centers = torch.tensor(centers, device=node_features.device)\n",
        "            updates = torch.stack(updates, dim=0)\n",
        "            updates_node = torch.zeros_like(node_features)\n",
        "            updates_node = updates_node.index_add(0, centers, updates)\n",
        "\n",
        "            # node_features = norm_layer(updates_node + node_features)\n",
        "            node_features = updates_node + node_features\n",
        "        # graph_embedding = global_mean_pool(node_features, batch)\n",
        "\n",
        "        return torch.sigmoid(self.final_layer(node_features))"
      ]
    },
    {
      "cell_type": "markdown",
      "id": "I4dTsTPm9x43",
      "metadata": {
        "id": "I4dTsTPm9x43"
      },
      "source": [
        "# Main"
      ]
    },
    {
      "cell_type": "markdown",
      "id": "MPXDN-yM-cqX",
      "metadata": {
        "id": "MPXDN-yM-cqX"
      },
      "source": [
        "## Hyperparameters"
      ]
    },
    {
      "cell_type": "code",
      "execution_count": 33,
      "id": "R6iLOaDnv56K",
      "metadata": {
        "id": "R6iLOaDnv56K"
      },
      "outputs": [],
      "source": [
        "\n",
        "training_sam = 100\n",
        "testing_sam = 50\n",
        "num_epochs = 15\n",
        "batch_size = 16"
      ]
    },
    {
      "cell_type": "code",
      "execution_count": 34,
      "id": "4Xgky0EZxQJT",
      "metadata": {
        "id": "4Xgky0EZxQJT"
      },
      "outputs": [],
      "source": [
        "## Quantum hyperparameters\n",
        "graphlet_size = 4\n",
        "node_qubit = graphlet_size\n",
        "edge_qubit = node_qubit - 1\n",
        "n_qubits = node_qubit + edge_qubit\n",
        "device = torch.device(\"cuda\" if torch.cuda.is_available() else \"cpu\")\n",
        "q_dev = qml.device(\"default.qubit\", wires=n_qubits + 2) # number of ancilla qubits\n",
        "\n",
        "num_ent_layers = 2"
      ]
    },
    {
      "cell_type": "code",
      "execution_count": 35,
      "id": "V2FI1890xOEq",
      "metadata": {
        "id": "V2FI1890xOEq"
      },
      "outputs": [],
      "source": [
        "w_shapes_dict = {\n",
        "    'spreadlayer': (0, n_qubits, 1),\n",
        "    'strong': (2, num_ent_layers, 3, 3), # 3\n",
        "    # 'strong': (3, args.num_ent_layers, 2, 3), # 2\n",
        "    'inits': (1, 4),\n",
        "    'update': (1, num_ent_layers, 3, 3), # (1, args.num_ent_layers, 2, 3)\n",
        "    'twodesign': (0, num_ent_layers, 1, 2)\n",
        "}"
      ]
    },
    {
      "cell_type": "markdown",
      "id": "ZHmU3-6H-a_6",
      "metadata": {
        "id": "ZHmU3-6H-a_6"
      },
      "source": [
        "## Data loader"
      ]
    },
    {
      "cell_type": "code",
      "execution_count": 36,
      "id": "bKajFu7L-E7s",
      "metadata": {
        "id": "bKajFu7L-E7s"
      },
      "outputs": [],
      "source": [
        "data = scipy.io.loadmat('cf_train_6_30.mat')\n",
        "beta_train = data['betas'][:training_sam]\n",
        "direct_train = data['directs'][:training_sam]\n",
        "cross_train = data['corsses'][:training_sam].transpose(0,2,1)"
      ]
    },
    {
      "cell_type": "code",
      "execution_count": 37,
      "id": "3heuHLKc-E7s",
      "metadata": {
        "id": "3heuHLKc-E7s"
      },
      "outputs": [],
      "source": [
        "test_data = scipy.io.loadmat('cf_test_6_30.mat')\n",
        "beta_test = test_data['betas'][:testing_sam]\n",
        "direct_test = test_data['directs'][:testing_sam]\n",
        "cross_test = test_data['corsses'][:testing_sam].transpose(0,2,1)"
      ]
    },
    {
      "cell_type": "code",
      "execution_count": 38,
      "id": "eS0ExHBq-E7s",
      "metadata": {
        "id": "eS0ExHBq-E7s"
      },
      "outputs": [],
      "source": [
        "opt_rate = test_data['R_cf_opt_min'][:,:testing_sam]"
      ]
    },
    {
      "cell_type": "code",
      "execution_count": 39,
      "id": "uACZrxDY-E7s",
      "metadata": {
        "id": "uACZrxDY-E7s"
      },
      "outputs": [],
      "source": [
        "norm_train_losses, norm_test_losses = normalize_data(beta_train**(1/2), beta_test**(1/2) )"
      ]
    },
    {
      "cell_type": "code",
      "execution_count": 40,
      "id": "gEIzFyDA-E7s",
      "metadata": {
        "id": "gEIzFyDA-E7s"
      },
      "outputs": [],
      "source": [
        "## For GNNs, we allow train_K \\neq test_K\n",
        "train_K, train_M = beta_train.shape[2], beta_train.shape[1]\n",
        "test_K, test_M = beta_test.shape[2], beta_test.shape[1]"
      ]
    },
    {
      "cell_type": "code",
      "execution_count": 41,
      "id": "RqAhODeQ--ix",
      "metadata": {
        "colab": {
          "base_uri": "https://localhost:8080/"
        },
        "id": "RqAhODeQ--ix",
        "outputId": "6c2a722d-deaa-4df1-de33-de716ed472e0"
      },
      "outputs": [
        {
          "data": {
            "text/plain": [
              "(50, 30, 6)"
            ]
          },
          "execution_count": 41,
          "metadata": {},
          "output_type": "execute_result"
        }
      ],
      "source": [
        "norm_test_losses.shape"
      ]
    },
    {
      "cell_type": "code",
      "execution_count": 42,
      "id": "w3bUTaES91t7",
      "metadata": {
        "id": "w3bUTaES91t7"
      },
      "outputs": [],
      "source": [
        "train_dataset = cfGraphDataset(norm_train_losses, direct_train, cross_train, (train_K, train_M))\n",
        "test_dataset = cfGraphDataset(norm_test_losses, direct_test, cross_test, (test_K, test_M))\n",
        "\n",
        "train_loader = DataLoader(train_dataset, batch_size=batch_size, shuffle=True)\n",
        "test_loader = DataLoader(test_dataset, batch_size=batch_size, shuffle=False)"
      ]
    },
    {
      "cell_type": "code",
      "execution_count": 43,
      "id": "Bzwi66gW-gTW",
      "metadata": {
        "id": "Bzwi66gW-gTW"
      },
      "outputs": [],
      "source": [
        "node_input_dim = train_dataset[0][0].x.shape[1]\n",
        "edge_input_dim = train_dataset[0][0].edge_attr.shape[1]\n",
        "num_gnn_layers = 3"
      ]
    },
    {
      "cell_type": "code",
      "execution_count": 44,
      "id": "HTRTcCHc9zdM",
      "metadata": {
        "id": "HTRTcCHc9zdM"
      },
      "outputs": [],
      "source": [
        "import torch.optim.lr_scheduler as lr_scheduler\n",
        "\n",
        "model = QGNN(\n",
        "        q_dev=q_dev,\n",
        "        w_shapes=w_shapes_dict,\n",
        "        node_input_dim=node_input_dim,\n",
        "        edge_input_dim=edge_input_dim,\n",
        "        graphlet_size=node_qubit,\n",
        "        hop_neighbor=num_gnn_layers,\n",
        "        # num_classes=num_classes,\n",
        "        # one_hot=0\n",
        "    )\n",
        "\n",
        "optimizer = torch.optim.Adam(model.parameters(), lr=5e-2)\n",
        "scheduler = lr_scheduler.StepLR(optimizer, step_size=1, gamma=0.9)\n"
      ]
    },
    {
      "cell_type": "code",
      "execution_count": null,
      "id": "tLiYXL099XeT",
      "metadata": {
        "id": "tLiYXL099XeT"
      },
      "outputs": [],
      "source": [
        "training_sinr = []\n",
        "testing_sinr = []\n",
        "for epoch in range(num_epochs):\n",
        "    # Train the model\n",
        "    avg_train_loss = train(model, train_loader, optimizer)\n",
        "    scheduler.step()\n",
        "    avg_test_sinr = test(model, test_loader)\n",
        "    training_sinr.append(avg_train_loss)\n",
        "    testing_sinr.append(avg_test_sinr)\n",
        "    print(f\"Epoch {epoch + 1}/{num_epochs}, Training loss: {-avg_train_loss:.4f}, Training SINR: {training_sinr[-1]:.4f}, Testing SINR: {testing_sinr[-1]:.4f}\")"
      ]
    }
  ],
  "metadata": {
    "colab": {
      "provenance": [],
      "toc_visible": true
    },
    "environment": {
      "kernel": "python3",
      "name": "pytorch-gpu.1-9.m82",
      "type": "gcloud",
      "uri": "gcr.io/deeplearning-platform-release/pytorch-gpu.1-9:m82"
    },
    "kernelspec": {
      "display_name": "QGNN",
      "language": "python",
      "name": "python3"
    },
    "language_info": {
      "codemirror_mode": {
        "name": "ipython",
        "version": 3
      },
      "file_extension": ".py",
      "mimetype": "text/x-python",
      "name": "python",
      "nbconvert_exporter": "python",
      "pygments_lexer": "ipython3",
      "version": "3.9.21"
    }
  },
  "nbformat": 4,
  "nbformat_minor": 5
}
